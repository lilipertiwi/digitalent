{
 "cells": [
  {
   "cell_type": "code",
   "execution_count": 5,
   "metadata": {},
   "outputs": [
    {
     "name": "stdout",
     "output_type": "stream",
     "text": [
      "['orange', 'orange']\n",
      "[]\n"
     ]
    }
   ],
   "source": [
    "#loop menggunakan while\n",
    "colors = [\"orange\",\"orange\",\"blue\",\"orange\",\"orange\"]\n",
    "colors2 = [\"green\",\"orange\",\"orange\"]\n",
    "oranges = []\n",
    "oranges2 = []\n",
    "i = 0\n",
    "j = 0\n",
    "\n",
    "while colors[i] == \"orange\":\n",
    "    oranges.append(colors[i])\n",
    "    i = i+1\n",
    "    \n",
    "while colors2[j] == \"orange\":\n",
    "    oranges2.append(colors2[j])\n",
    "    j = j+1\n",
    "\n",
    "print(oranges)\n",
    "print(oranges2)"
   ]
  },
  {
   "cell_type": "code",
   "execution_count": 17,
   "metadata": {},
   "outputs": [
    {
     "name": "stdout",
     "output_type": "stream",
     "text": [
      "['orange', 'orange']\n"
     ]
    }
   ],
   "source": [
    "#loop menggunakan for\n",
    "colors = [\"orange\",\"orange\",\"blue\",\"orange\",\"orange\"]\n",
    "oranges = []\n",
    "\n",
    "for i in range(len(colors)):\n",
    "    if colors[i] == \"orange\":\n",
    "        oranges.append(colors[i])\n",
    "    else:\n",
    "        break\n",
    "print(oranges)"
   ]
  }
 ],
 "metadata": {
  "kernelspec": {
   "display_name": "Python 3",
   "language": "python",
   "name": "python3"
  },
  "language_info": {
   "codemirror_mode": {
    "name": "ipython",
    "version": 3
   },
   "file_extension": ".py",
   "mimetype": "text/x-python",
   "name": "python",
   "nbconvert_exporter": "python",
   "pygments_lexer": "ipython3",
   "version": "3.7.1"
  }
 },
 "nbformat": 4,
 "nbformat_minor": 2
}
