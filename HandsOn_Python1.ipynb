{
 "cells": [
  {
   "cell_type": "markdown",
   "metadata": {},
   "source": [
    "a. request log diassign ke variabel log"
   ]
  },
  {
   "cell_type": "code",
   "execution_count": 3,
   "metadata": {},
   "outputs": [
    {
     "name": "stdout",
     "output_type": "stream",
     "text": [
      "128.0.0.1 - - [12/Feb/2011:10:31:08 -0600] \"GET /docs/test.txt HTTP/1.0\"\n"
     ]
    }
   ],
   "source": [
    "log = '128.0.0.1 - - [12/Feb/2011:10:31:08 -0600] \"GET /docs/test.txt HTTP/1.0\"'\n",
    "print(log)"
   ]
  },
  {
   "cell_type": "markdown",
   "metadata": {},
   "source": [
    "___"
   ]
  },
  {
   "cell_type": "markdown",
   "metadata": {},
   "source": [
    "b. mengambil alamat IP menggunakan method **split()** dan diassign ke variabel **address**"
   ]
  },
  {
   "cell_type": "code",
   "execution_count": 7,
   "metadata": {},
   "outputs": [
    {
     "name": "stdout",
     "output_type": "stream",
     "text": [
      "['128.0.0.1', '-', '-', '[12/Feb/2011:10:31:08', '-0600]', '\"GET', '/docs/test.txt', 'HTTP/1.0\"']\n"
     ]
    }
   ],
   "source": [
    "#pertama input log/value dari variabel log displit \n",
    "#dan disimpan ke variabel splittedLog\n",
    "splittedLog = log.split()\n",
    "print(splittedLog)"
   ]
  },
  {
   "cell_type": "code",
   "execution_count": 8,
   "metadata": {},
   "outputs": [
    {
     "name": "stdout",
     "output_type": "stream",
     "text": [
      "128.0.0.1\n",
      "128.0.0.1\n",
      "128.0.0.1\n"
     ]
    }
   ],
   "source": [
    "#kemudian value pertama, yaitu index ke-0 diassign ke variabel address\n",
    "address = splittedLog[0]\n",
    "#atau\n",
    "alamat = log.split()[0] #lebih efisien\n",
    "#atau\n",
    "alamat2 = log[0:log.find(\" \")]\n",
    "print(address)\n",
    "print(alamat)\n",
    "print(alamat2)"
   ]
  },
  {
   "cell_type": "markdown",
   "metadata": {},
   "source": [
    "---"
   ]
  },
  {
   "cell_type": "markdown",
   "metadata": {},
   "source": [
    "c. mengambil tanggal log yang masuk dan diassign ke variabel **date**"
   ]
  },
  {
   "cell_type": "code",
   "execution_count": 18,
   "metadata": {},
   "outputs": [
    {
     "name": "stdout",
     "output_type": "stream",
     "text": [
      "[12/Feb/2011:10:31:08 -0600]\n",
      "12/Feb/2011:10:31:08 -0600\n",
      "12/Feb/2011:10:31:08 -0600\n"
     ]
    }
   ],
   "source": [
    "#value yang diambil untuk tanggal yaitu value ke-4 dan ke-5 \n",
    "#atau index ke-3 dan ke-4\n",
    "date = splittedLog[3] + \" \" + splittedLog[4]\n",
    "tgl = date[1:len(date)-1]\n",
    "dts = log[log.find('[')+1:log.find(']')]\n",
    "print(date)\n",
    "print(tgl)\n",
    "print(dts)"
   ]
  },
  {
   "cell_type": "markdown",
   "metadata": {},
   "source": [
    "___\n",
    "___"
   ]
  },
  {
   "cell_type": "markdown",
   "metadata": {},
   "source": [
    "Menghitung rata-rata nilai dari beberapa sublist di dalam suatu list menggunakan fungsi **avg()**"
   ]
  },
  {
   "cell_type": "code",
   "execution_count": 4,
   "metadata": {},
   "outputs": [],
   "source": [
    "#fungsi avg()\n",
    "def avg(grade):\n",
    "  #menggunakan for untuk melakukan iterasi fungsi print dari \n",
    "  #setiap sublist (each_grade) di list (grades)  \n",
    "  for each_grade in grades:\n",
    "    #print mencetak hasil rata-rata dari\n",
    "    #jumlah nilai total dibagi panjang sublist\n",
    "    print (sum(each_grade)/len(each_grade))"
   ]
  },
  {
   "cell_type": "code",
   "execution_count": 5,
   "metadata": {},
   "outputs": [
    {
     "name": "stdout",
     "output_type": "stream",
     "text": [
      "90.0\n",
      "60.0\n",
      "87.0\n",
      "11.0\n"
     ]
    }
   ],
   "source": [
    "grades = [[95, 92, 86, 87], [66, 54], [89, 72, 100], [33, 0, 0]]\n",
    "\n",
    "avg(grades)"
   ]
  }
 ],
 "metadata": {
  "kernelspec": {
   "display_name": "Python 3",
   "language": "python",
   "name": "python3"
  },
  "language_info": {
   "codemirror_mode": {
    "name": "ipython",
    "version": 3
   },
   "file_extension": ".py",
   "mimetype": "text/x-python",
   "name": "python",
   "nbconvert_exporter": "python",
   "pygments_lexer": "ipython3",
   "version": "3.7.1"
  }
 },
 "nbformat": 4,
 "nbformat_minor": 2
}
