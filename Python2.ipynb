{
 "cells": [
  {
   "cell_type": "code",
   "execution_count": 29,
   "metadata": {
    "scrolled": true
   },
   "outputs": [
    {
     "name": "stdout",
     "output_type": "stream",
     "text": [
      "0\t1\n",
      "1\t2\n",
      "2\t3\n",
      "3\t4\n",
      "4\t5\n",
      "5\t6\n",
      "6\t7\n",
      "7\t8\n",
      "8\t9\n",
      "9\t10\n",
      "10\t11\n",
      "11\t12\n",
      "12\t13\n",
      "13\t14\n",
      "14\t15\n",
      "15\t16\n",
      "16\t17\n",
      "17\t18\n",
      "18\t19\n",
      "19\t20\n",
      "20\t21\n",
      "21\t22\n",
      "22\t23\n",
      "23\t24\n",
      "24\t25\n",
      "25\t26\n",
      "26\t27\n",
      "27\t28\n",
      "28\t29\n",
      "29\t30\n",
      "30\t31\n",
      "31\t32\n",
      "32\t33\n",
      "33\t34\n",
      "34\t35\n",
      "35\t36\n",
      "36\t37\n",
      "37\t38\n",
      "38\t39\n",
      "39\t40\n",
      "40\t41\n",
      "41\t42\n",
      "42\t43\n",
      "43\t44\n",
      "44\t45\n",
      "45\t46\n",
      "46\t47\n",
      "47\t48\n",
      "48\t49\n",
      "49\t50\n"
     ]
    }
   ],
   "source": [
    "nomor = list(range(50))\n",
    "nomor2 = list(range(1,51))\n",
    "for i in nomor:\n",
    "    print(str(i) + \"\\t\" +str(nomor2[i]) )"
   ]
  },
  {
   "cell_type": "code",
   "execution_count": 11,
   "metadata": {},
   "outputs": [
    {
     "data": {
      "text/plain": [
       "[10, 9, 8, 7, 6, 5, 4]"
      ]
     },
     "execution_count": 11,
     "metadata": {},
     "output_type": "execute_result"
    }
   ],
   "source": [
    "list(range(10,3,-1))"
   ]
  },
  {
   "cell_type": "code",
   "execution_count": 24,
   "metadata": {},
   "outputs": [
    {
     "name": "stdout",
     "output_type": "stream",
     "text": [
      "['red', 'black', 'green', 'black', 'white']\n"
     ]
    }
   ],
   "source": [
    "colors = [\"red\", \"yellow\", \"green\", \"blue\", \"white\"]\n",
    "for i in range(1,5,2):\n",
    "    colors[i] = \"black\"\n",
    "print(colors)"
   ]
  },
  {
   "cell_type": "code",
   "execution_count": 30,
   "metadata": {},
   "outputs": [
    {
     "name": "stdout",
     "output_type": "stream",
     "text": [
      "['black', 'yellow', 'black', 'blue', 'black']\n"
     ]
    }
   ],
   "source": [
    "colors = [\"red\", \"yellow\", \"green\", \"blue\", \"white\"]\n",
    "for i in range(0,5,2):\n",
    "    colors[i] = \"black\"\n",
    "print(colors)"
   ]
  },
  {
   "cell_type": "code",
   "execution_count": 33,
   "metadata": {},
   "outputs": [
    {
     "name": "stdout",
     "output_type": "stream",
     "text": [
      "RED\n",
      "YELLOW\n",
      "GREEN\n",
      "BLUE\n",
      "WHITE\n"
     ]
    }
   ],
   "source": [
    "colors = [\"red\", \"yellow\", \"green\", \"blue\", \"white\"]\n",
    "for i in range(5):\n",
    "    print(colors[i].upper())"
   ]
  },
  {
   "cell_type": "code",
   "execution_count": 40,
   "metadata": {},
   "outputs": [
    {
     "name": "stdout",
     "output_type": "stream",
     "text": [
      "['RED', 'YELLOW', 'GREEN', 'BLUE', 'WHITE']\n"
     ]
    }
   ],
   "source": [
    "colors = [\"red\", \"yellow\", \"green\", \"blue\", \"white\"]\n",
    "for i, color in enumerate(colors):\n",
    "    colors[i] = color.upper()\n",
    "print(colors)"
   ]
  },
  {
   "cell_type": "code",
   "execution_count": 42,
   "metadata": {},
   "outputs": [
    {
     "name": "stdout",
     "output_type": "stream",
     "text": [
      "color 0 is red\n",
      "color 1 is yellow\n",
      "color 2 is green\n",
      "color 3 is blue\n",
      "color 4 is white\n"
     ]
    }
   ],
   "source": [
    "colors = [\"red\", \"yellow\", \"green\", \"blue\", \"white\"]\n",
    "for i, color in enumerate(colors):\n",
    "    print(\"color \" + str(i) + \" is \" + color)"
   ]
  },
  {
   "cell_type": "code",
   "execution_count": null,
   "metadata": {},
   "outputs": [],
   "source": [
    "colors = [\"orange\",\"orange\",\"blue\",\"orange\",\"orange\",\"orange\"]\n",
    "i=0"
   ]
  },
  {
   "cell_type": "code",
   "execution_count": null,
   "metadata": {},
   "outputs": [],
   "source": [
    "colors = [\"orange\",\"orange\",\"blue\",\"orange\",\"orange\",\"orange\"]\n",
    "i=0\n",
    "oranges=[]\n",
    "\n",
    "#while colors[i] == \"orange\":\n",
    " #   oranges.append(colors[i])\n",
    "  #  i=i+1\n",
    "#print(oranges)"
   ]
  }
 ],
 "metadata": {
  "kernelspec": {
   "display_name": "Python 3",
   "language": "python",
   "name": "python3"
  },
  "language_info": {
   "codemirror_mode": {
    "name": "ipython",
    "version": 3
   },
   "file_extension": ".py",
   "mimetype": "text/x-python",
   "name": "python",
   "nbconvert_exporter": "python",
   "pygments_lexer": "ipython3",
   "version": "3.7.1"
  }
 },
 "nbformat": 4,
 "nbformat_minor": 2
}
