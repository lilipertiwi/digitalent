{
 "cells": [
  {
   "cell_type": "code",
   "execution_count": null,
   "metadata": {},
   "outputs": [],
   "source": [
    "!pip install imutils"
   ]
  },
  {
   "cell_type": "code",
   "execution_count": null,
   "metadata": {},
   "outputs": [],
   "source": [
    "!pip install opencv-contrib-python"
   ]
  },
  {
   "cell_type": "code",
   "execution_count": 4,
   "metadata": {
    "scrolled": false
   },
   "outputs": [
    {
     "name": "stdout",
     "output_type": "stream",
     "text": [
      "[INFO] extracting image features...\n",
      "[INFO] using 'knn' model\n",
      "[INFO] evaluating...\n",
      "              precision    recall  f1-score   support\n",
      "\n",
      "       coast       0.78      0.72      0.75        88\n",
      "      forest       0.75      0.78      0.76        81\n",
      "     highway       0.72      0.76      0.74        68\n",
      "\n",
      "   micro avg       0.75      0.75      0.75       237\n",
      "   macro avg       0.75      0.75      0.75       237\n",
      "weighted avg       0.75      0.75      0.75       237\n",
      "\n"
     ]
    }
   ],
   "source": [
    "run -i classify_image.py"
   ]
  },
  {
   "cell_type": "code",
   "execution_count": 6,
   "metadata": {},
   "outputs": [
    {
     "name": "stdout",
     "output_type": "stream",
     "text": [
      "[INFO] extracting image features...\n",
      "[INFO] using 'decision_tree' model\n",
      "[INFO] evaluating...\n",
      "              precision    recall  f1-score   support\n",
      "\n",
      "       coast       0.75      0.62      0.68        97\n",
      "      forest       0.71      0.79      0.75        75\n",
      "     highway       0.62      0.70      0.66        64\n",
      "       house       0.17      0.18      0.17        11\n",
      "\n",
      "   micro avg       0.67      0.67      0.67       247\n",
      "   macro avg       0.56      0.57      0.57       247\n",
      "weighted avg       0.68      0.67      0.67       247\n",
      "\n"
     ]
    }
   ],
   "source": [
    "run -i classify_image.py -m decision_tree"
   ]
  },
  {
   "cell_type": "code",
   "execution_count": 8,
   "metadata": {},
   "outputs": [
    {
     "name": "stdout",
     "output_type": "stream",
     "text": [
      "[INFO] extracting image features...\n",
      "[INFO] using 'mlp' model\n",
      "[INFO] evaluating...\n",
      "              precision    recall  f1-score   support\n",
      "\n",
      "       coast       0.60      0.89      0.72        85\n",
      "      forest       0.87      0.78      0.82        85\n",
      "     highway       0.85      0.43      0.57        67\n",
      "       house       0.64      0.70      0.67        10\n",
      "\n",
      "   micro avg       0.72      0.72      0.72       247\n",
      "   macro avg       0.74      0.70      0.70       247\n",
      "weighted avg       0.76      0.72      0.71       247\n",
      "\n"
     ]
    }
   ],
   "source": [
    "run -i classify_image.py -m mlp"
   ]
  },
  {
   "cell_type": "code",
   "execution_count": 3,
   "metadata": {},
   "outputs": [
    {
     "name": "stdout",
     "output_type": "stream",
     "text": [
      "[INFO] extracting image features...\n",
      "[INFO] using 'logit' model\n",
      "[INFO] evaluating...\n",
      "              precision    recall  f1-score   support\n",
      "\n",
      "       coast       0.72      0.71      0.71        89\n",
      "      forest       0.80      0.87      0.84        93\n",
      "     highway       0.67      0.58      0.62        55\n",
      "\n",
      "   micro avg       0.74      0.74      0.74       237\n",
      "   macro avg       0.73      0.72      0.72       237\n",
      "weighted avg       0.74      0.74      0.74       237\n",
      "\n"
     ]
    },
    {
     "name": "stderr",
     "output_type": "stream",
     "text": [
      "C:\\Users\\Public\\Anaconda3\\lib\\site-packages\\sklearn\\linear_model\\logistic.py:758: ConvergenceWarning: lbfgs failed to converge. Increase the number of iterations.\n",
      "  \"of iterations.\", ConvergenceWarning)\n"
     ]
    }
   ],
   "source": [
    "run -i classify_image.py -m logit"
   ]
  },
  {
   "cell_type": "code",
   "execution_count": 19,
   "metadata": {},
   "outputs": [
    {
     "name": "stdout",
     "output_type": "stream",
     "text": [
      "[INFO] extracting image features...\n",
      "[INFO] using 'logit' model\n",
      "[INFO] evaluating...\n",
      "              precision    recall  f1-score   support\n",
      "\n",
      "       coast       0.72      0.73      0.73        94\n",
      "      forest       0.73      0.77      0.75        78\n",
      "     highway       0.57      0.67      0.62        60\n",
      "       house       0.75      0.15      0.25        20\n",
      "\n",
      "   micro avg       0.68      0.68      0.68       252\n",
      "   macro avg       0.69      0.58      0.59       252\n",
      "weighted avg       0.69      0.68      0.67       252\n",
      "\n"
     ]
    },
    {
     "name": "stderr",
     "output_type": "stream",
     "text": [
      "C:\\Users\\Public\\Anaconda3\\lib\\site-packages\\sklearn\\linear_model\\logistic.py:758: ConvergenceWarning: lbfgs failed to converge. Increase the number of iterations.\n",
      "  \"of iterations.\", ConvergenceWarning)\n"
     ]
    }
   ],
   "source": [
    "# setelah gambar house ditambahkan\n",
    "run -i classify_image.py -m logit"
   ]
  },
  {
   "cell_type": "code",
   "execution_count": 10,
   "metadata": {},
   "outputs": [
    {
     "name": "stdout",
     "output_type": "stream",
     "text": [
      "[INFO] extracting image features...\n",
      "[INFO] using 'random_forest' model\n",
      "[INFO] evaluating...\n",
      "              precision    recall  f1-score   support\n",
      "\n",
      "       coast       0.74      0.81      0.77        95\n",
      "      forest       0.81      0.81      0.81        83\n",
      "     highway       0.67      0.71      0.69        56\n",
      "       house       0.00      0.00      0.00        13\n",
      "\n",
      "   micro avg       0.74      0.74      0.74       247\n",
      "   macro avg       0.55      0.58      0.57       247\n",
      "weighted avg       0.71      0.74      0.73       247\n",
      "\n"
     ]
    },
    {
     "name": "stderr",
     "output_type": "stream",
     "text": [
      "C:\\Users\\Public\\Anaconda3\\lib\\site-packages\\sklearn\\metrics\\classification.py:1143: UndefinedMetricWarning: Precision and F-score are ill-defined and being set to 0.0 in labels with no predicted samples.\n",
      "  'precision', 'predicted', average, warn_for)\n"
     ]
    }
   ],
   "source": [
    "run -i classify_image.py -m random_forest"
   ]
  },
  {
   "cell_type": "code",
   "execution_count": 17,
   "metadata": {},
   "outputs": [
    {
     "name": "stdout",
     "output_type": "stream",
     "text": [
      "[INFO] extracting image features...\n",
      "[INFO] using 'random_forest' model\n",
      "[INFO] evaluating...\n",
      "              precision    recall  f1-score   support\n",
      "\n",
      "       coast       0.73      0.76      0.75        85\n",
      "      forest       0.75      0.92      0.83        78\n",
      "     highway       0.75      0.67      0.71        67\n",
      "       house       0.86      0.27      0.41        22\n",
      "\n",
      "   micro avg       0.75      0.75      0.75       252\n",
      "   macro avg       0.77      0.66      0.67       252\n",
      "weighted avg       0.75      0.75      0.73       252\n",
      "\n"
     ]
    }
   ],
   "source": [
    "# setelah gambar house ditambahkan\n",
    "run -i classify_image.py -m random_forest"
   ]
  },
  {
   "cell_type": "code",
   "execution_count": 11,
   "metadata": {},
   "outputs": [
    {
     "name": "stdout",
     "output_type": "stream",
     "text": [
      "[INFO] extracting image features...\n",
      "[INFO] using 'naive_bayes' model\n",
      "[INFO] evaluating...\n",
      "              precision    recall  f1-score   support\n",
      "\n",
      "       coast       0.63      0.33      0.44        87\n",
      "      forest       0.67      0.64      0.66        92\n",
      "     highway       0.53      0.83      0.65        60\n",
      "       house       0.32      0.75      0.44         8\n",
      "\n",
      "   micro avg       0.58      0.58      0.58       247\n",
      "   macro avg       0.54      0.64      0.55       247\n",
      "weighted avg       0.61      0.58      0.57       247\n",
      "\n"
     ]
    }
   ],
   "source": [
    "run -i classify_image.py -m naive_bayes"
   ]
  },
  {
   "cell_type": "code",
   "execution_count": 16,
   "metadata": {},
   "outputs": [
    {
     "name": "stdout",
     "output_type": "stream",
     "text": [
      "[INFO] extracting image features...\n",
      "[INFO] using 'naive_bayes' model\n",
      "[INFO] evaluating...\n",
      "              precision    recall  f1-score   support\n",
      "\n",
      "       coast       0.81      0.41      0.55        82\n",
      "      forest       0.64      0.74      0.69        82\n",
      "     highway       0.58      0.76      0.65        70\n",
      "       house       0.41      0.50      0.45        18\n",
      "\n",
      "   micro avg       0.62      0.62      0.62       252\n",
      "   macro avg       0.61      0.60      0.58       252\n",
      "weighted avg       0.66      0.62      0.62       252\n",
      "\n"
     ]
    }
   ],
   "source": [
    "# setelah gambar house ditambahkan\n",
    "run -i classify_image.py -m naive_bayes"
   ]
  },
  {
   "cell_type": "code",
   "execution_count": 15,
   "metadata": {},
   "outputs": [
    {
     "name": "stdout",
     "output_type": "stream",
     "text": [
      "[INFO] extracting image features...\n",
      "[INFO] using 'svm' model\n",
      "[INFO] evaluating...\n",
      "              precision    recall  f1-score   support\n",
      "\n",
      "       coast       0.71      0.79      0.75        87\n",
      "      forest       0.83      0.86      0.84        92\n",
      "     highway       0.65      0.60      0.62        55\n",
      "       house       0.67      0.33      0.44        18\n",
      "\n",
      "   micro avg       0.74      0.74      0.74       252\n",
      "   macro avg       0.71      0.65      0.67       252\n",
      "weighted avg       0.74      0.74      0.74       252\n",
      "\n"
     ]
    }
   ],
   "source": [
    "run -i classify_image.py -m svm"
   ]
  },
  {
   "cell_type": "code",
   "execution_count": 20,
   "metadata": {},
   "outputs": [
    {
     "name": "stdout",
     "output_type": "stream",
     "text": [
      "[INFO] extracting image features...\n",
      "[INFO] using 'svm' model\n",
      "[INFO] hasil prediksi data baru...\n",
      "prediksi: highway\n"
     ]
    }
   ],
   "source": [
    "run -i classify_individual_image.py -m svm -i rumah.jpg"
   ]
  },
  {
   "cell_type": "code",
   "execution_count": 21,
   "metadata": {},
   "outputs": [
    {
     "name": "stdout",
     "output_type": "stream",
     "text": [
      "[INFO] extracting image features...\n",
      "[INFO] using 'svm' model\n",
      "[INFO] hasil prediksi data baru...\n",
      "prediksi: coast\n"
     ]
    }
   ],
   "source": [
    "run -i classify_individual_image.py -m svm -i rumah1.jpg"
   ]
  },
  {
   "cell_type": "code",
   "execution_count": 22,
   "metadata": {},
   "outputs": [
    {
     "name": "stdout",
     "output_type": "stream",
     "text": [
      "[INFO] extracting image features...\n",
      "[INFO] using 'svm' model\n",
      "[INFO] hasil prediksi data baru...\n",
      "prediksi: forest\n"
     ]
    }
   ],
   "source": [
    "run -i classify_individual_image.py -m svm -i rumah2.jpg"
   ]
  },
  {
   "cell_type": "code",
   "execution_count": 24,
   "metadata": {},
   "outputs": [
    {
     "name": "stdout",
     "output_type": "stream",
     "text": [
      "[INFO] extracting image features...\n",
      "[INFO] using 'knn' model\n",
      "[INFO] hasil prediksi data baru...\n",
      "prediksi: highway\n"
     ]
    }
   ],
   "source": [
    "run -i classify_individual_image.py -m knn -i rumah.jpg"
   ]
  },
  {
   "cell_type": "code",
   "execution_count": 26,
   "metadata": {},
   "outputs": [
    {
     "name": "stdout",
     "output_type": "stream",
     "text": [
      "[INFO] extracting image features...\n",
      "[INFO] using 'knn' model\n",
      "[INFO] hasil prediksi data baru...\n",
      "prediksi: coast\n"
     ]
    }
   ],
   "source": [
    "run -i classify_individual_image.py -m knn -i rumah1.jpg"
   ]
  },
  {
   "cell_type": "code",
   "execution_count": 27,
   "metadata": {},
   "outputs": [
    {
     "name": "stdout",
     "output_type": "stream",
     "text": [
      "[INFO] extracting image features...\n",
      "[INFO] using 'knn' model\n",
      "[INFO] hasil prediksi data baru...\n",
      "prediksi: house\n"
     ]
    }
   ],
   "source": [
    "run -i classify_individual_image.py -m knn -i rumah2.jpg"
   ]
  },
  {
   "cell_type": "code",
   "execution_count": 28,
   "metadata": {},
   "outputs": [
    {
     "name": "stdout",
     "output_type": "stream",
     "text": [
      "[INFO] extracting image features...\n",
      "[INFO] using 'logit' model\n",
      "[INFO] hasil prediksi data baru...\n",
      "prediksi: forest\n"
     ]
    },
    {
     "name": "stderr",
     "output_type": "stream",
     "text": [
      "C:\\Users\\Public\\Anaconda3\\lib\\site-packages\\sklearn\\linear_model\\logistic.py:758: ConvergenceWarning: lbfgs failed to converge. Increase the number of iterations.\n",
      "  \"of iterations.\", ConvergenceWarning)\n"
     ]
    }
   ],
   "source": [
    "run -i classify_individual_image.py -m logit -i rumah.jpg"
   ]
  },
  {
   "cell_type": "code",
   "execution_count": 29,
   "metadata": {},
   "outputs": [
    {
     "name": "stdout",
     "output_type": "stream",
     "text": [
      "[INFO] extracting image features...\n",
      "[INFO] using 'logit' model\n",
      "[INFO] hasil prediksi data baru...\n",
      "prediksi: coast\n"
     ]
    },
    {
     "name": "stderr",
     "output_type": "stream",
     "text": [
      "C:\\Users\\Public\\Anaconda3\\lib\\site-packages\\sklearn\\linear_model\\logistic.py:758: ConvergenceWarning: lbfgs failed to converge. Increase the number of iterations.\n",
      "  \"of iterations.\", ConvergenceWarning)\n"
     ]
    }
   ],
   "source": [
    "run -i classify_individual_image.py -m logit -i rumah1.jpg"
   ]
  },
  {
   "cell_type": "code",
   "execution_count": 30,
   "metadata": {},
   "outputs": [
    {
     "name": "stdout",
     "output_type": "stream",
     "text": [
      "[INFO] extracting image features...\n",
      "[INFO] using 'logit' model\n",
      "[INFO] hasil prediksi data baru...\n",
      "prediksi: house\n"
     ]
    },
    {
     "name": "stderr",
     "output_type": "stream",
     "text": [
      "C:\\Users\\Public\\Anaconda3\\lib\\site-packages\\sklearn\\linear_model\\logistic.py:758: ConvergenceWarning: lbfgs failed to converge. Increase the number of iterations.\n",
      "  \"of iterations.\", ConvergenceWarning)\n"
     ]
    }
   ],
   "source": [
    "run -i classify_individual_image.py -m logit -i rumah2.jpg"
   ]
  },
  {
   "cell_type": "code",
   "execution_count": 31,
   "metadata": {},
   "outputs": [
    {
     "name": "stdout",
     "output_type": "stream",
     "text": [
      "[INFO] extracting image features...\n",
      "[INFO] using 'decision_tree' model\n",
      "[INFO] hasil prediksi data baru...\n",
      "prediksi: highway\n"
     ]
    }
   ],
   "source": [
    "run -i classify_individual_image.py -m decision_tree -i rumah.jpg"
   ]
  },
  {
   "cell_type": "code",
   "execution_count": 32,
   "metadata": {},
   "outputs": [
    {
     "name": "stdout",
     "output_type": "stream",
     "text": [
      "[INFO] extracting image features...\n",
      "[INFO] using 'decision_tree' model\n",
      "[INFO] hasil prediksi data baru...\n",
      "prediksi: house\n"
     ]
    }
   ],
   "source": [
    "run -i classify_individual_image.py -m decision_tree -i rumah1.jpg"
   ]
  },
  {
   "cell_type": "code",
   "execution_count": 33,
   "metadata": {},
   "outputs": [
    {
     "name": "stdout",
     "output_type": "stream",
     "text": [
      "[INFO] extracting image features...\n",
      "[INFO] using 'decision_tree' model\n",
      "[INFO] hasil prediksi data baru...\n",
      "prediksi: coast\n"
     ]
    }
   ],
   "source": [
    "run -i classify_individual_image.py -m decision_tree -i rumah2.jpg"
   ]
  },
  {
   "cell_type": "code",
   "execution_count": 34,
   "metadata": {},
   "outputs": [
    {
     "name": "stdout",
     "output_type": "stream",
     "text": [
      "[INFO] extracting image features...\n",
      "[INFO] using 'random_forest' model\n",
      "[INFO] hasil prediksi data baru...\n",
      "prediksi: highway\n"
     ]
    }
   ],
   "source": [
    "run -i classify_individual_image.py -m random_forest -i rumah.jpg"
   ]
  },
  {
   "cell_type": "code",
   "execution_count": 35,
   "metadata": {},
   "outputs": [
    {
     "name": "stdout",
     "output_type": "stream",
     "text": [
      "[INFO] extracting image features...\n",
      "[INFO] using 'random_forest' model\n",
      "[INFO] hasil prediksi data baru...\n",
      "prediksi: coast\n"
     ]
    }
   ],
   "source": [
    "run -i classify_individual_image.py -m random_forest -i rumah1.jpg"
   ]
  },
  {
   "cell_type": "code",
   "execution_count": 36,
   "metadata": {},
   "outputs": [
    {
     "name": "stdout",
     "output_type": "stream",
     "text": [
      "[INFO] extracting image features...\n",
      "[INFO] using 'random_forest' model\n",
      "[INFO] hasil prediksi data baru...\n",
      "prediksi: highway\n"
     ]
    }
   ],
   "source": [
    "run -i classify_individual_image.py -m random_forest -i rumah2.jpg"
   ]
  },
  {
   "cell_type": "code",
   "execution_count": 37,
   "metadata": {},
   "outputs": [
    {
     "name": "stdout",
     "output_type": "stream",
     "text": [
      "[INFO] extracting image features...\n",
      "[INFO] using 'mlp' model\n",
      "[INFO] hasil prediksi data baru...\n",
      "prediksi: highway\n"
     ]
    }
   ],
   "source": [
    "run -i classify_individual_image.py -m mlp -i rumah.jpg"
   ]
  },
  {
   "cell_type": "code",
   "execution_count": 38,
   "metadata": {},
   "outputs": [
    {
     "name": "stdout",
     "output_type": "stream",
     "text": [
      "[INFO] extracting image features...\n",
      "[INFO] using 'mlp' model\n",
      "[INFO] hasil prediksi data baru...\n",
      "prediksi: coast\n"
     ]
    }
   ],
   "source": [
    "run -i classify_individual_image.py -m mlp -i rumah1.jpg"
   ]
  },
  {
   "cell_type": "code",
   "execution_count": 39,
   "metadata": {},
   "outputs": [
    {
     "name": "stdout",
     "output_type": "stream",
     "text": [
      "[INFO] extracting image features...\n",
      "[INFO] using 'mlp' model\n",
      "[INFO] hasil prediksi data baru...\n",
      "prediksi: house\n"
     ]
    }
   ],
   "source": [
    "run -i classify_individual_image.py -m mlp -i rumah2.jpg"
   ]
  },
  {
   "cell_type": "markdown",
   "metadata": {},
   "source": [
    "##### yang berhasil diprediksi dengan benar:\n",
    "rumah2.jpg dengan model knn, logit, dan mlp\n",
    "<br>rumah1.jgp dengan model decision tree"
   ]
  },
  {
   "cell_type": "code",
   "execution_count": 51,
   "metadata": {},
   "outputs": [
    {
     "name": "stdout",
     "output_type": "stream",
     "text": [
      "[INFO] extracting image features...\n",
      "[INFO] using 'knn' model\n",
      "[INFO] hasil prediksi data baru...\n",
      "prediksi: coast\n"
     ]
    }
   ],
   "source": [
    "run -i classify_individual_image.py -m knn -i laut1.jpg"
   ]
  },
  {
   "cell_type": "code",
   "execution_count": null,
   "metadata": {},
   "outputs": [],
   "source": []
  }
 ],
 "metadata": {
  "kernelspec": {
   "display_name": "Python 3",
   "language": "python",
   "name": "python3"
  },
  "language_info": {
   "codemirror_mode": {
    "name": "ipython",
    "version": 3
   },
   "file_extension": ".py",
   "mimetype": "text/x-python",
   "name": "python",
   "nbconvert_exporter": "python",
   "pygments_lexer": "ipython3",
   "version": "3.7.1"
  }
 },
 "nbformat": 4,
 "nbformat_minor": 2
}
