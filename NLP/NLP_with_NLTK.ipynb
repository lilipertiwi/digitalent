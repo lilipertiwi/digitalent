{
 "cells": [
  {
   "cell_type": "markdown",
   "metadata": {},
   "source": [
    "# Import NLTK"
   ]
  },
  {
   "cell_type": "code",
   "execution_count": 3,
   "metadata": {},
   "outputs": [],
   "source": [
    "import os\n",
    "import nltk\n",
    "import nltk.corpus"
   ]
  },
  {
   "cell_type": "code",
   "execution_count": 4,
   "metadata": {},
   "outputs": [
    {
     "name": "stdout",
     "output_type": "stream",
     "text": [
      "['abc', 'abc.zip', 'alpino', 'alpino.zip', 'biocreative_ppi', 'biocreative_ppi.zip', 'brown', 'brown.zip', 'brown_tei', 'brown_tei.zip', 'cess_cat', 'cess_cat.zip', 'cess_esp', 'cess_esp.zip', 'chat80', 'chat80.zip', 'city_database', 'city_database.zip', 'cmudict', 'cmudict.zip', 'comtrans.zip', 'conll2000', 'conll2000.zip', 'conll2002', 'conll2002.zip', 'conll2007.zip', 'crubadan', 'crubadan.zip', 'dependency_treebank', 'dependency_treebank.zip', 'dolch', 'dolch.zip', 'floresta', 'floresta.zip', 'framenet_v15', 'framenet_v15.zip', 'framenet_v17', 'framenet_v17.zip', 'gazetteers', 'gazetteers.zip', 'genesis', 'genesis.zip', 'gutenberg', 'gutenberg.zip', 'ieer', 'ieer.zip', 'inaugural', 'inaugural.zip', 'indian', 'indian.zip', 'jeita.zip', 'kimmo', 'kimmo.zip', 'knbc.zip', 'lin_thesaurus', 'lin_thesaurus.zip', 'machado.zip', 'mac_morpho', 'mac_morpho.zip', 'masc_tagged.zip', 'movie_reviews', 'movie_reviews.zip', 'mte_teip5', 'mte_teip5.zip', 'names', 'names.zip', 'nombank.1.0.zip', 'nonbreaking_prefixes', 'nonbreaking_prefixes.zip', 'nps_chat', 'nps_chat.zip', 'omw', 'omw.zip', 'panlex_swadesh.zip', 'paradigms', 'paradigms.zip', 'pil', 'pil.zip', 'pl196x', 'pl196x.zip', 'ppattach', 'ppattach.zip', 'problem_reports', 'problem_reports.zip', 'propbank.zip', 'ptb', 'ptb.zip', 'qc', 'qc.zip', 'reuters.zip', 'rte', 'rte.zip', 'semcor.zip', 'senseval', 'senseval.zip', 'sentiwordnet', 'sentiwordnet.zip', 'shakespeare', 'shakespeare.zip', 'sinica_treebank', 'sinica_treebank.zip', 'state_union', 'state_union.zip', 'stopwords', 'stopwords.zip', 'swadesh', 'swadesh.zip', 'switchboard', 'switchboard.zip', 'timit', 'timit.zip', 'toolbox', 'toolbox.zip', 'treebank', 'treebank.zip', 'udhr', 'udhr.zip', 'udhr2', 'udhr2.zip', 'unicode_samples', 'unicode_samples.zip', 'universal_treebanks_v20.zip', 'verbnet', 'verbnet.zip', 'verbnet3', 'verbnet3.zip', 'webtext', 'webtext.zip', 'wordnet', 'wordnet.zip', 'wordnet_ic', 'wordnet_ic.zip', 'words', 'words.zip', 'ycoe', 'ycoe.zip']\n"
     ]
    }
   ],
   "source": [
    "## show all nltk corpora data\n",
    "print(os.listdir(nltk.data.find(\"corpora\")))"
   ]
  },
  {
   "cell_type": "code",
   "execution_count": 5,
   "metadata": {},
   "outputs": [
    {
     "data": {
      "text/plain": [
       "['austen-emma.txt',\n",
       " 'austen-persuasion.txt',\n",
       " 'austen-sense.txt',\n",
       " 'bible-kjv.txt',\n",
       " 'blake-poems.txt',\n",
       " 'bryant-stories.txt',\n",
       " 'burgess-busterbrown.txt',\n",
       " 'carroll-alice.txt',\n",
       " 'chesterton-ball.txt',\n",
       " 'chesterton-brown.txt',\n",
       " 'chesterton-thursday.txt',\n",
       " 'edgeworth-parents.txt',\n",
       " 'melville-moby_dick.txt',\n",
       " 'milton-paradise.txt',\n",
       " 'shakespeare-caesar.txt',\n",
       " 'shakespeare-hamlet.txt',\n",
       " 'shakespeare-macbeth.txt',\n",
       " 'whitman-leaves.txt']"
      ]
     },
     "execution_count": 5,
     "metadata": {},
     "output_type": "execute_result"
    }
   ],
   "source": [
    "## select gutenberg file\n",
    "nltk.corpus.gutenberg.fileids()"
   ]
  },
  {
   "cell_type": "code",
   "execution_count": 6,
   "metadata": {},
   "outputs": [
    {
     "name": "stdout",
     "output_type": "stream",
     "text": [
      "['[', 'The', 'Tragedie', 'of', 'Hamlet', 'by', ...]\n"
     ]
    }
   ],
   "source": [
    "## choose Shakespeare-hamlet.txt dalam bentuk list\n",
    "hamlet=nltk.corpus.gutenberg.words('shakespeare-hamlet.txt')\n",
    "print(hamlet)"
   ]
  },
  {
   "cell_type": "code",
   "execution_count": 7,
   "metadata": {},
   "outputs": [
    {
     "name": "stdout",
     "output_type": "stream",
     "text": [
      "[ The Tragedie of Hamlet by William Shakespeare 1599 ] Actus Primus . Scoena Prima . Enter Barnardo and Francisco two Centinels . Barnardo . Who ' s there ? Fran . Nay answer me : Stand & vnfold your selfe Bar . Long liue the King Fran . Barnardo ? Bar . He Fran . You come most carefully vpon your houre Bar . ' Tis now strook twelue , get thee to bed Francisco Fran . For this releefe much thankes : ' Tis bitter cold , And I am sicke at heart Barn . Haue you had quiet Guard ? Fran . Not a Mouse stirring Barn . Well , goodnight . If you do meet Horatio and Marcellus , the Riuals of my Watch , bid them make hast . Enter Horatio and Marcellus . Fran . I thinke I heare them . Stand : who ' s there ? Hor . Friends to this ground Mar . And Leige - men to the Dane Fran . Giue you good night Mar . O farwel honest Soldier , who hath relieu ' d you ? Fra . Barnardo ha ' s my place : giue you goodnight . Exit Fran . Mar . Holla Barnardo Bar . Say , what is Horatio there ? Hor . A peece of him Bar . Welcome Horatio , welcome good Marcellus Mar . What , ha ' s this thing appear ' d againe to night Bar . I haue seene nothing Mar . Horatio saies , ' tis but our Fantasie , And will not let beleefe take hold of him Touching this dreaded sight , twice seene of vs , Therefore I haue intreated him along With vs , to watch the minutes of this Night , That if againe this Apparition come , He may approue our eyes , and speake to it Hor . Tush , tush , ' twill not appeare Bar . Sit downe a - while , And let vs once againe assaile your eares , That are so fortified against our Story , What we two Nights haue seene Hor . Well , sit we downe , And let vs heare Barnardo speake of this Barn . Last night of all , When yond same Starre that ' s Westward from the Pole Had made his course t ' illume that part of Heauen Where now it burnes , Marcellus and my selfe , The Bell then beating one Mar . Peace , breake thee of : Enter the Ghost . Looke where it comes againe Barn . In the same figure , like the King that ' s dead Mar . Thou art a Scholler ; speake to it Horatio Barn . Lookes it not like the King ? Marke it Horatio Hora . Most like : It harrowes me with fear & wonder Barn . It would be spoke too Mar . Question it Horatio Hor . What art "
     ]
    }
   ],
   "source": [
    "## print 500 words from hamlet\n",
    "for word in hamlet[:500]:\n",
    "    print(word, sep = ' ', end = ' ')"
   ]
  },
  {
   "cell_type": "code",
   "execution_count": 8,
   "metadata": {},
   "outputs": [
    {
     "data": {
      "text/plain": [
       "False"
      ]
     },
     "execution_count": 8,
     "metadata": {},
     "output_type": "execute_result"
    }
   ],
   "source": [
    "## find if 'Juliet' is in hamlet list\n",
    "'Juliet' in hamlet"
   ]
  },
  {
   "cell_type": "code",
   "execution_count": 9,
   "metadata": {},
   "outputs": [
    {
     "name": "stdout",
     "output_type": "stream",
     "text": [
      "true\n"
     ]
    }
   ],
   "source": [
    "for i in nltk.corpus.gutenberg.words():\n",
    "    if ('Juliet' in i):\n",
    "        print('true')\n",
    "        break"
   ]
  },
  {
   "cell_type": "code",
   "execution_count": 10,
   "metadata": {},
   "outputs": [],
   "source": [
    " AI=\"\"\"According to the father of Artificial\n",
    "Intelligence, John McCarthy, it is “The science and\n",
    "engineering of making intelligent machines,\n",
    "especially intelligent computer programs”.\n",
    "Artificial Intelligence is a way of making a\n",
    "computer, a computer-controlled robot, or a software\n",
    "think intelligently, in the similar manner the\n",
    "intelligent humans think.\n",
    "AI is accomplished by studying how human brain\n",
    "thinks, and how humans learn, decide, and work while\n",
    "trying to solve a problem, and then using the\n",
    "outcomes of this study as a basis of developing\n",
    "intelligent software and systems.\"\"\""
   ]
  },
  {
   "cell_type": "code",
   "execution_count": 11,
   "metadata": {},
   "outputs": [
    {
     "name": "stdout",
     "output_type": "stream",
     "text": [
      "According to the father of Artificial\n",
      "Intelligence, John McCarthy, it is “The science and\n",
      "engineering of making intelligent machines,\n",
      "especially intelligent computer programs”.\n",
      "Artificial Intelligence is a way of making a\n",
      "computer, a computer-controlled robot, or a software\n",
      "think intelligently, in the similar manner the\n",
      "intelligent humans think.\n",
      "AI is accomplished by studying how human brain\n",
      "thinks, and how humans learn, decide, and work while\n",
      "trying to solve a problem, and then using the\n",
      "outcomes of this study as a basis of developing\n",
      "intelligent software and systems.\n"
     ]
    }
   ],
   "source": [
    "print(AI)"
   ]
  },
  {
   "cell_type": "markdown",
   "metadata": {},
   "source": [
    "# Tokenization\n",
    "membagi teks ke beberapa bagian, yang disebut **tokens**. Sekaligus menghapus karakter tertentu (punctuation)."
   ]
  },
  {
   "cell_type": "code",
   "execution_count": 29,
   "metadata": {
    "scrolled": false
   },
   "outputs": [
    {
     "name": "stderr",
     "output_type": "stream",
     "text": [
      "[nltk_data] Downloading package punkt to C:\\Users\\User\n",
      "[nltk_data]     PC\\AppData\\Roaming\\nltk_data...\n",
      "[nltk_data]   Unzipping tokenizers\\punkt.zip.\n"
     ]
    },
    {
     "data": {
      "text/plain": [
       "True"
      ]
     },
     "execution_count": 29,
     "metadata": {},
     "output_type": "execute_result"
    }
   ],
   "source": [
    "nltk.download(\"punkt\")"
   ]
  },
  {
   "cell_type": "code",
   "execution_count": 12,
   "metadata": {},
   "outputs": [
    {
     "name": "stdout",
     "output_type": "stream",
     "text": [
      "['According', 'to', 'the', 'father', 'of', 'Artificial', 'Intelligence', ',', 'John', 'McCarthy', ',', 'it', 'is', '“', 'The', 'science', 'and', 'engineering', 'of', 'making', 'intelligent', 'machines', ',', 'especially', 'intelligent', 'computer', 'programs', '”', '.', 'Artificial', 'Intelligence', 'is', 'a', 'way', 'of', 'making', 'a', 'computer', ',', 'a', 'computer-controlled', 'robot', ',', 'or', 'a', 'software', 'think', 'intelligently', ',', 'in', 'the', 'similar', 'manner', 'the', 'intelligent', 'humans', 'think', '.', 'AI', 'is', 'accomplished', 'by', 'studying', 'how', 'human', 'brain', 'thinks', ',', 'and', 'how', 'humans', 'learn', ',', 'decide', ',', 'and', 'work', 'while', 'trying', 'to', 'solve', 'a', 'problem', ',', 'and', 'then', 'using', 'the', 'outcomes', 'of', 'this', 'study', 'as', 'a', 'basis', 'of', 'developing', 'intelligent', 'software', 'and', 'systems', '.']\n"
     ]
    }
   ],
   "source": [
    "# tokenize per word\n",
    "from nltk import word_tokenize\n",
    "\n",
    "# tokenize each word from AI text\n",
    "AI_tokens = word_tokenize(AI)\n",
    "print(AI_tokens)"
   ]
  },
  {
   "cell_type": "code",
   "execution_count": 13,
   "metadata": {},
   "outputs": [
    {
     "data": {
      "text/plain": [
       "102"
      ]
     },
     "execution_count": 13,
     "metadata": {},
     "output_type": "execute_result"
    }
   ],
   "source": [
    "len(AI_tokens)"
   ]
  },
  {
   "cell_type": "code",
   "execution_count": 14,
   "metadata": {},
   "outputs": [
    {
     "data": {
      "text/plain": [
       "list"
      ]
     },
     "execution_count": 14,
     "metadata": {},
     "output_type": "execute_result"
    }
   ],
   "source": [
    "type(AI_tokens)"
   ]
  },
  {
   "cell_type": "code",
   "execution_count": 15,
   "metadata": {},
   "outputs": [
    {
     "data": {
      "text/plain": [
       "3"
      ]
     },
     "execution_count": 15,
     "metadata": {},
     "output_type": "execute_result"
    }
   ],
   "source": [
    "# tokenize per sentence\n",
    "from nltk import sent_tokenize\n",
    "AI_sen = sent_tokenize(AI)\n",
    "len(AI_sen)"
   ]
  },
  {
   "cell_type": "code",
   "execution_count": 16,
   "metadata": {},
   "outputs": [
    {
     "data": {
      "text/plain": [
       "1"
      ]
     },
     "execution_count": 16,
     "metadata": {},
     "output_type": "execute_result"
    }
   ],
   "source": [
    "# tokenize the blank lines\n",
    "from nltk.tokenize import blankline_tokenize\n",
    "AI_blank=blankline_tokenize(AI)\n",
    "len(AI_blank)"
   ]
  },
  {
   "cell_type": "markdown",
   "metadata": {},
   "source": [
    "## FreqDist()\n",
    "menghitung frekuensi kata. Output berupa tuple yang berisi pasangan kata dengan jumlah kemunculan kata tersebut."
   ]
  },
  {
   "cell_type": "code",
   "execution_count": 17,
   "metadata": {},
   "outputs": [
    {
     "name": "stdout",
     "output_type": "stream",
     "text": [
      "<FreqDist with 60 samples and 102 outcomes>\n"
     ]
    }
   ],
   "source": [
    "## menghitung frekuensi kata\n",
    "from nltk.probability import FreqDist\n",
    "fdist = FreqDist()\n",
    "for word in AI_tokens:\n",
    "    fdist[word.lower()]+=1\n",
    "print(fdist)"
   ]
  },
  {
   "cell_type": "code",
   "execution_count": 18,
   "metadata": {},
   "outputs": [
    {
     "data": {
      "text/plain": [
       "[(',', 10),\n",
       " ('a', 6),\n",
       " ('the', 5),\n",
       " ('of', 5),\n",
       " ('and', 5),\n",
       " ('intelligent', 4),\n",
       " ('is', 3),\n",
       " ('.', 3),\n",
       " ('to', 2),\n",
       " ('artificial', 2)]"
      ]
     },
     "execution_count": 18,
     "metadata": {},
     "output_type": "execute_result"
    }
   ],
   "source": [
    "# menampilkan angka top 10\n",
    "fdist_top10 = fdist.most_common(10)\n",
    "fdist_top10"
   ]
  },
  {
   "cell_type": "markdown",
   "metadata": {},
   "source": [
    "### Bigram - Trigram - N-gram\n",
    "● Bigram: tokens consisting two consecutive words <br>\n",
    "● Trigram: tokens consisting three consecutive\n",
    "words <br>\n",
    "● N-gram: Tokens consisting n-consecutive words <br><br>\n",
    "**panjang n-grams = jumlah kata - n + 1**"
   ]
  },
  {
   "cell_type": "code",
   "execution_count": 19,
   "metadata": {},
   "outputs": [],
   "source": [
    "from nltk.util import bigrams, trigrams, ngrams\n",
    "string = \"The best and most beautiful things in the world cannot be seen or even touched, they must be felt with heart\"\n",
    "quotes_tokens = nltk.word_tokenize(string)\n",
    "quotes_bigrams = list(nltk.bigrams(quotes_tokens))\n",
    "quotes_trigrams = list(nltk.trigrams(quotes_tokens))\n",
    "quotes_ngrams = list(nltk.ngrams(quotes_tokens, 5))"
   ]
  },
  {
   "cell_type": "code",
   "execution_count": 20,
   "metadata": {},
   "outputs": [
    {
     "data": {
      "text/plain": [
       "[('The', 'best'),\n",
       " ('best', 'and'),\n",
       " ('and', 'most'),\n",
       " ('most', 'beautiful'),\n",
       " ('beautiful', 'things'),\n",
       " ('things', 'in'),\n",
       " ('in', 'the'),\n",
       " ('the', 'world'),\n",
       " ('world', 'can'),\n",
       " ('can', 'not'),\n",
       " ('not', 'be'),\n",
       " ('be', 'seen'),\n",
       " ('seen', 'or'),\n",
       " ('or', 'even'),\n",
       " ('even', 'touched'),\n",
       " ('touched', ','),\n",
       " (',', 'they'),\n",
       " ('they', 'must'),\n",
       " ('must', 'be'),\n",
       " ('be', 'felt'),\n",
       " ('felt', 'with'),\n",
       " ('with', 'heart')]"
      ]
     },
     "execution_count": 20,
     "metadata": {},
     "output_type": "execute_result"
    }
   ],
   "source": [
    "quotes_bigrams"
   ]
  },
  {
   "cell_type": "code",
   "execution_count": 21,
   "metadata": {},
   "outputs": [
    {
     "data": {
      "text/plain": [
       "[('The', 'best', 'and'),\n",
       " ('best', 'and', 'most'),\n",
       " ('and', 'most', 'beautiful'),\n",
       " ('most', 'beautiful', 'things'),\n",
       " ('beautiful', 'things', 'in'),\n",
       " ('things', 'in', 'the'),\n",
       " ('in', 'the', 'world'),\n",
       " ('the', 'world', 'can'),\n",
       " ('world', 'can', 'not'),\n",
       " ('can', 'not', 'be'),\n",
       " ('not', 'be', 'seen'),\n",
       " ('be', 'seen', 'or'),\n",
       " ('seen', 'or', 'even'),\n",
       " ('or', 'even', 'touched'),\n",
       " ('even', 'touched', ','),\n",
       " ('touched', ',', 'they'),\n",
       " (',', 'they', 'must'),\n",
       " ('they', 'must', 'be'),\n",
       " ('must', 'be', 'felt'),\n",
       " ('be', 'felt', 'with'),\n",
       " ('felt', 'with', 'heart')]"
      ]
     },
     "execution_count": 21,
     "metadata": {},
     "output_type": "execute_result"
    }
   ],
   "source": [
    "quotes_trigrams"
   ]
  },
  {
   "cell_type": "code",
   "execution_count": 22,
   "metadata": {},
   "outputs": [
    {
     "data": {
      "text/plain": [
       "[('The', 'best', 'and', 'most', 'beautiful'),\n",
       " ('best', 'and', 'most', 'beautiful', 'things'),\n",
       " ('and', 'most', 'beautiful', 'things', 'in'),\n",
       " ('most', 'beautiful', 'things', 'in', 'the'),\n",
       " ('beautiful', 'things', 'in', 'the', 'world'),\n",
       " ('things', 'in', 'the', 'world', 'can'),\n",
       " ('in', 'the', 'world', 'can', 'not'),\n",
       " ('the', 'world', 'can', 'not', 'be'),\n",
       " ('world', 'can', 'not', 'be', 'seen'),\n",
       " ('can', 'not', 'be', 'seen', 'or'),\n",
       " ('not', 'be', 'seen', 'or', 'even'),\n",
       " ('be', 'seen', 'or', 'even', 'touched'),\n",
       " ('seen', 'or', 'even', 'touched', ','),\n",
       " ('or', 'even', 'touched', ',', 'they'),\n",
       " ('even', 'touched', ',', 'they', 'must'),\n",
       " ('touched', ',', 'they', 'must', 'be'),\n",
       " (',', 'they', 'must', 'be', 'felt'),\n",
       " ('they', 'must', 'be', 'felt', 'with'),\n",
       " ('must', 'be', 'felt', 'with', 'heart')]"
      ]
     },
     "execution_count": 22,
     "metadata": {},
     "output_type": "execute_result"
    }
   ],
   "source": [
    "quotes_ngrams"
   ]
  },
  {
   "cell_type": "markdown",
   "metadata": {},
   "source": [
    "### Mencari tokens dan freqdist dari data brown"
   ]
  },
  {
   "cell_type": "code",
   "execution_count": 23,
   "metadata": {},
   "outputs": [
    {
     "data": {
      "text/plain": [
       "1161191"
      ]
     },
     "execution_count": 23,
     "metadata": {},
     "output_type": "execute_result"
    }
   ],
   "source": [
    "brown = nltk.corpus.brown.words()\n",
    "brown_bigrams = list(nltk.bigrams(brown))\n",
    "len(brown_bigrams)"
   ]
  },
  {
   "cell_type": "code",
   "execution_count": 24,
   "metadata": {},
   "outputs": [
    {
     "data": {
      "text/plain": [
       "[('The', 'Fulton'),\n",
       " ('Fulton', 'County'),\n",
       " ('County', 'Grand'),\n",
       " ('Grand', 'Jury'),\n",
       " ('Jury', 'said'),\n",
       " ('said', 'Friday'),\n",
       " ('Friday', 'an'),\n",
       " ('an', 'investigation'),\n",
       " ('investigation', 'of'),\n",
       " ('of', \"Atlanta's\"),\n",
       " (\"Atlanta's\", 'recent'),\n",
       " ('recent', 'primary'),\n",
       " ('primary', 'election'),\n",
       " ('election', 'produced'),\n",
       " ('produced', '``'),\n",
       " ('``', 'no'),\n",
       " ('no', 'evidence'),\n",
       " ('evidence', \"''\"),\n",
       " (\"''\", 'that'),\n",
       " ('that', 'any'),\n",
       " ('any', 'irregularities'),\n",
       " ('irregularities', 'took'),\n",
       " ('took', 'place'),\n",
       " ('place', '.'),\n",
       " ('.', 'The'),\n",
       " ('The', 'jury'),\n",
       " ('jury', 'further'),\n",
       " ('further', 'said'),\n",
       " ('said', 'in'),\n",
       " ('in', 'term-end'),\n",
       " ('term-end', 'presentments'),\n",
       " ('presentments', 'that'),\n",
       " ('that', 'the'),\n",
       " ('the', 'City'),\n",
       " ('City', 'Executive'),\n",
       " ('Executive', 'Committee'),\n",
       " ('Committee', ','),\n",
       " (',', 'which'),\n",
       " ('which', 'had'),\n",
       " ('had', 'over-all'),\n",
       " ('over-all', 'charge'),\n",
       " ('charge', 'of'),\n",
       " ('of', 'the'),\n",
       " ('the', 'election'),\n",
       " ('election', ','),\n",
       " (',', '``'),\n",
       " ('``', 'deserves'),\n",
       " ('deserves', 'the'),\n",
       " ('the', 'praise'),\n",
       " ('praise', 'and'),\n",
       " ('and', 'thanks'),\n",
       " ('thanks', 'of'),\n",
       " ('of', 'the'),\n",
       " ('the', 'City'),\n",
       " ('City', 'of'),\n",
       " ('of', 'Atlanta'),\n",
       " ('Atlanta', \"''\"),\n",
       " (\"''\", 'for'),\n",
       " ('for', 'the'),\n",
       " ('the', 'manner'),\n",
       " ('manner', 'in'),\n",
       " ('in', 'which'),\n",
       " ('which', 'the'),\n",
       " ('the', 'election'),\n",
       " ('election', 'was'),\n",
       " ('was', 'conducted'),\n",
       " ('conducted', '.'),\n",
       " ('.', 'The'),\n",
       " ('The', 'September-October'),\n",
       " ('September-October', 'term'),\n",
       " ('term', 'jury'),\n",
       " ('jury', 'had'),\n",
       " ('had', 'been'),\n",
       " ('been', 'charged'),\n",
       " ('charged', 'by'),\n",
       " ('by', 'Fulton'),\n",
       " ('Fulton', 'Superior'),\n",
       " ('Superior', 'Court'),\n",
       " ('Court', 'Judge'),\n",
       " ('Judge', 'Durwood'),\n",
       " ('Durwood', 'Pye'),\n",
       " ('Pye', 'to'),\n",
       " ('to', 'investigate'),\n",
       " ('investigate', 'reports'),\n",
       " ('reports', 'of'),\n",
       " ('of', 'possible'),\n",
       " ('possible', '``'),\n",
       " ('``', 'irregularities'),\n",
       " ('irregularities', \"''\"),\n",
       " (\"''\", 'in'),\n",
       " ('in', 'the'),\n",
       " ('the', 'hard-fought'),\n",
       " ('hard-fought', 'primary'),\n",
       " ('primary', 'which'),\n",
       " ('which', 'was'),\n",
       " ('was', 'won'),\n",
       " ('won', 'by'),\n",
       " ('by', 'Mayor-nominate'),\n",
       " ('Mayor-nominate', 'Ivan'),\n",
       " ('Ivan', 'Allen'),\n",
       " ('Allen', 'Jr.'),\n",
       " ('Jr.', '.'),\n",
       " ('.', '``'),\n",
       " ('``', 'Only'),\n",
       " ('Only', 'a'),\n",
       " ('a', 'relative'),\n",
       " ('relative', 'handful'),\n",
       " ('handful', 'of'),\n",
       " ('of', 'such'),\n",
       " ('such', 'reports'),\n",
       " ('reports', 'was'),\n",
       " ('was', 'received'),\n",
       " ('received', \"''\"),\n",
       " (\"''\", ','),\n",
       " (',', 'the'),\n",
       " ('the', 'jury'),\n",
       " ('jury', 'said'),\n",
       " ('said', ','),\n",
       " (',', '``'),\n",
       " ('``', 'considering'),\n",
       " ('considering', 'the'),\n",
       " ('the', 'widespread'),\n",
       " ('widespread', 'interest'),\n",
       " ('interest', 'in'),\n",
       " ('in', 'the'),\n",
       " ('the', 'election'),\n",
       " ('election', ','),\n",
       " (',', 'the'),\n",
       " ('the', 'number'),\n",
       " ('number', 'of'),\n",
       " ('of', 'voters'),\n",
       " ('voters', 'and'),\n",
       " ('and', 'the'),\n",
       " ('the', 'size'),\n",
       " ('size', 'of'),\n",
       " ('of', 'this'),\n",
       " ('this', 'city'),\n",
       " ('city', \"''\"),\n",
       " (\"''\", '.'),\n",
       " ('.', 'The'),\n",
       " ('The', 'jury'),\n",
       " ('jury', 'said'),\n",
       " ('said', 'it'),\n",
       " ('it', 'did'),\n",
       " ('did', 'find'),\n",
       " ('find', 'that'),\n",
       " ('that', 'many'),\n",
       " ('many', 'of'),\n",
       " ('of', \"Georgia's\"),\n",
       " (\"Georgia's\", 'registration'),\n",
       " ('registration', 'and'),\n",
       " ('and', 'election'),\n",
       " ('election', 'laws'),\n",
       " ('laws', '``'),\n",
       " ('``', 'are'),\n",
       " ('are', 'outmoded'),\n",
       " ('outmoded', 'or'),\n",
       " ('or', 'inadequate'),\n",
       " ('inadequate', 'and'),\n",
       " ('and', 'often'),\n",
       " ('often', 'ambiguous'),\n",
       " ('ambiguous', \"''\"),\n",
       " (\"''\", '.'),\n",
       " ('.', 'It'),\n",
       " ('It', 'recommended'),\n",
       " ('recommended', 'that'),\n",
       " ('that', 'Fulton'),\n",
       " ('Fulton', 'legislators'),\n",
       " ('legislators', 'act'),\n",
       " ('act', '``'),\n",
       " ('``', 'to'),\n",
       " ('to', 'have'),\n",
       " ('have', 'these'),\n",
       " ('these', 'laws'),\n",
       " ('laws', 'studied'),\n",
       " ('studied', 'and'),\n",
       " ('and', 'revised'),\n",
       " ('revised', 'to'),\n",
       " ('to', 'the'),\n",
       " ('the', 'end'),\n",
       " ('end', 'of'),\n",
       " ('of', 'modernizing'),\n",
       " ('modernizing', 'and'),\n",
       " ('and', 'improving'),\n",
       " ('improving', 'them'),\n",
       " ('them', \"''\"),\n",
       " (\"''\", '.'),\n",
       " ('.', 'The'),\n",
       " ('The', 'grand'),\n",
       " ('grand', 'jury'),\n",
       " ('jury', 'commented'),\n",
       " ('commented', 'on'),\n",
       " ('on', 'a'),\n",
       " ('a', 'number'),\n",
       " ('number', 'of'),\n",
       " ('of', 'other'),\n",
       " ('other', 'topics'),\n",
       " ('topics', ','),\n",
       " (',', 'among'),\n",
       " ('among', 'them'),\n",
       " ('them', 'the'),\n",
       " ('the', 'Atlanta'),\n",
       " ('Atlanta', 'and'),\n",
       " ('and', 'Fulton'),\n",
       " ('Fulton', 'County'),\n",
       " ('County', 'purchasing'),\n",
       " ('purchasing', 'departments'),\n",
       " ('departments', 'which'),\n",
       " ('which', 'it'),\n",
       " ('it', 'said'),\n",
       " ('said', '``'),\n",
       " ('``', 'are'),\n",
       " ('are', 'well'),\n",
       " ('well', 'operated'),\n",
       " ('operated', 'and'),\n",
       " ('and', 'follow'),\n",
       " ('follow', 'generally'),\n",
       " ('generally', 'accepted'),\n",
       " ('accepted', 'practices'),\n",
       " ('practices', 'which'),\n",
       " ('which', 'inure'),\n",
       " ('inure', 'to'),\n",
       " ('to', 'the'),\n",
       " ('the', 'best'),\n",
       " ('best', 'interest'),\n",
       " ('interest', 'of'),\n",
       " ('of', 'both'),\n",
       " ('both', 'governments'),\n",
       " ('governments', \"''\"),\n",
       " (\"''\", '.'),\n",
       " ('.', 'Merger'),\n",
       " ('Merger', 'proposed'),\n",
       " ('proposed', 'However'),\n",
       " ('However', ','),\n",
       " (',', 'the'),\n",
       " ('the', 'jury'),\n",
       " ('jury', 'said'),\n",
       " ('said', 'it'),\n",
       " ('it', 'believes'),\n",
       " ('believes', '``'),\n",
       " ('``', 'these'),\n",
       " ('these', 'two'),\n",
       " ('two', 'offices'),\n",
       " ('offices', 'should'),\n",
       " ('should', 'be'),\n",
       " ('be', 'combined'),\n",
       " ('combined', 'to'),\n",
       " ('to', 'achieve'),\n",
       " ('achieve', 'greater'),\n",
       " ('greater', 'efficiency'),\n",
       " ('efficiency', 'and'),\n",
       " ('and', 'reduce'),\n",
       " ('reduce', 'the'),\n",
       " ('the', 'cost'),\n",
       " ('cost', 'of'),\n",
       " ('of', 'administration'),\n",
       " ('administration', \"''\"),\n",
       " (\"''\", '.'),\n",
       " ('.', 'The'),\n",
       " ('The', 'City'),\n",
       " ('City', 'Purchasing'),\n",
       " ('Purchasing', 'Department'),\n",
       " ('Department', ','),\n",
       " (',', 'the'),\n",
       " ('the', 'jury'),\n",
       " ('jury', 'said'),\n",
       " ('said', ','),\n",
       " (',', '``'),\n",
       " ('``', 'is'),\n",
       " ('is', 'lacking'),\n",
       " ('lacking', 'in'),\n",
       " ('in', 'experienced'),\n",
       " ('experienced', 'clerical'),\n",
       " ('clerical', 'personnel'),\n",
       " ('personnel', 'as'),\n",
       " ('as', 'a'),\n",
       " ('a', 'result'),\n",
       " ('result', 'of'),\n",
       " ('of', 'city'),\n",
       " ('city', 'personnel'),\n",
       " ('personnel', 'policies'),\n",
       " ('policies', \"''\"),\n",
       " (\"''\", '.'),\n",
       " ('.', 'It'),\n",
       " ('It', 'urged'),\n",
       " ('urged', 'that'),\n",
       " ('that', 'the'),\n",
       " ('the', 'city'),\n",
       " ('city', '``'),\n",
       " ('``', 'take'),\n",
       " ('take', 'steps'),\n",
       " ('steps', 'to'),\n",
       " ('to', 'remedy'),\n",
       " ('remedy', \"''\"),\n",
       " (\"''\", 'this'),\n",
       " ('this', 'problem'),\n",
       " ('problem', '.'),\n",
       " ('.', 'Implementation'),\n",
       " ('Implementation', 'of'),\n",
       " ('of', \"Georgia's\"),\n",
       " (\"Georgia's\", 'automobile'),\n",
       " ('automobile', 'title'),\n",
       " ('title', 'law'),\n",
       " ('law', 'was'),\n",
       " ('was', 'also'),\n",
       " ('also', 'recommended'),\n",
       " ('recommended', 'by'),\n",
       " ('by', 'the'),\n",
       " ('the', 'outgoing'),\n",
       " ('outgoing', 'jury'),\n",
       " ('jury', '.'),\n",
       " ('.', 'It'),\n",
       " ('It', 'urged'),\n",
       " ('urged', 'that'),\n",
       " ('that', 'the'),\n",
       " ('the', 'next'),\n",
       " ('next', 'Legislature'),\n",
       " ('Legislature', '``'),\n",
       " ('``', 'provide'),\n",
       " ('provide', 'enabling'),\n",
       " ('enabling', 'funds'),\n",
       " ('funds', 'and'),\n",
       " ('and', 're-set'),\n",
       " ('re-set', 'the'),\n",
       " ('the', 'effective'),\n",
       " ('effective', 'date'),\n",
       " ('date', 'so'),\n",
       " ('so', 'that'),\n",
       " ('that', 'an'),\n",
       " ('an', 'orderly'),\n",
       " ('orderly', 'implementation'),\n",
       " ('implementation', 'of'),\n",
       " ('of', 'the'),\n",
       " ('the', 'law'),\n",
       " ('law', 'may'),\n",
       " ('may', 'be'),\n",
       " ('be', 'effected'),\n",
       " ('effected', \"''\"),\n",
       " (\"''\", '.'),\n",
       " ('.', 'The'),\n",
       " ('The', 'grand'),\n",
       " ('grand', 'jury'),\n",
       " ('jury', 'took'),\n",
       " ('took', 'a'),\n",
       " ('a', 'swipe'),\n",
       " ('swipe', 'at'),\n",
       " ('at', 'the'),\n",
       " ('the', 'State'),\n",
       " ('State', 'Welfare'),\n",
       " ('Welfare', \"Department's\"),\n",
       " (\"Department's\", 'handling'),\n",
       " ('handling', 'of'),\n",
       " ('of', 'federal'),\n",
       " ('federal', 'funds'),\n",
       " ('funds', 'granted'),\n",
       " ('granted', 'for'),\n",
       " ('for', 'child'),\n",
       " ('child', 'welfare'),\n",
       " ('welfare', 'services'),\n",
       " ('services', 'in'),\n",
       " ('in', 'foster'),\n",
       " ('foster', 'homes'),\n",
       " ('homes', '.'),\n",
       " ('.', '``'),\n",
       " ('``', 'This'),\n",
       " ('This', 'is'),\n",
       " ('is', 'one'),\n",
       " ('one', 'of'),\n",
       " ('of', 'the'),\n",
       " ('the', 'major'),\n",
       " ('major', 'items'),\n",
       " ('items', 'in'),\n",
       " ('in', 'the'),\n",
       " ('the', 'Fulton'),\n",
       " ('Fulton', 'County'),\n",
       " ('County', 'general'),\n",
       " ('general', 'assistance'),\n",
       " ('assistance', 'program'),\n",
       " ('program', \"''\"),\n",
       " (\"''\", ','),\n",
       " (',', 'the'),\n",
       " ('the', 'jury'),\n",
       " ('jury', 'said'),\n",
       " ('said', ','),\n",
       " (',', 'but'),\n",
       " ('but', 'the'),\n",
       " ('the', 'State'),\n",
       " ('State', 'Welfare'),\n",
       " ('Welfare', 'Department'),\n",
       " ('Department', '``'),\n",
       " ('``', 'has'),\n",
       " ('has', 'seen'),\n",
       " ('seen', 'fit'),\n",
       " ('fit', 'to'),\n",
       " ('to', 'distribute'),\n",
       " ('distribute', 'these'),\n",
       " ('these', 'funds'),\n",
       " ('funds', 'through'),\n",
       " ('through', 'the'),\n",
       " ('the', 'welfare'),\n",
       " ('welfare', 'departments'),\n",
       " ('departments', 'of'),\n",
       " ('of', 'all'),\n",
       " ('all', 'the'),\n",
       " ('the', 'counties'),\n",
       " ('counties', 'in'),\n",
       " ('in', 'the'),\n",
       " ('the', 'state'),\n",
       " ('state', 'with'),\n",
       " ('with', 'the'),\n",
       " ('the', 'exception'),\n",
       " ('exception', 'of'),\n",
       " ('of', 'Fulton'),\n",
       " ('Fulton', 'County'),\n",
       " ('County', ','),\n",
       " (',', 'which'),\n",
       " ('which', 'receives'),\n",
       " ('receives', 'none'),\n",
       " ('none', 'of'),\n",
       " ('of', 'this'),\n",
       " ('this', 'money'),\n",
       " ('money', '.'),\n",
       " ('.', 'The'),\n",
       " ('The', 'jurors'),\n",
       " ('jurors', 'said'),\n",
       " ('said', 'they'),\n",
       " ('they', 'realize'),\n",
       " ('realize', '``'),\n",
       " ('``', 'a'),\n",
       " ('a', 'proportionate'),\n",
       " ('proportionate', 'distribution'),\n",
       " ('distribution', 'of'),\n",
       " ('of', 'these'),\n",
       " ('these', 'funds'),\n",
       " ('funds', 'might'),\n",
       " ('might', 'disable'),\n",
       " ('disable', 'this'),\n",
       " ('this', 'program'),\n",
       " ('program', 'in'),\n",
       " ('in', 'our'),\n",
       " ('our', 'less'),\n",
       " ('less', 'populous'),\n",
       " ('populous', 'counties'),\n",
       " ('counties', \"''\"),\n",
       " (\"''\", '.'),\n",
       " ('.', 'Nevertheless'),\n",
       " ('Nevertheless', ','),\n",
       " (',', '``'),\n",
       " ('``', 'we'),\n",
       " ('we', 'feel'),\n",
       " ('feel', 'that'),\n",
       " ('that', 'in'),\n",
       " ('in', 'the'),\n",
       " ('the', 'future'),\n",
       " ('future', 'Fulton'),\n",
       " ('Fulton', 'County'),\n",
       " ('County', 'should'),\n",
       " ('should', 'receive'),\n",
       " ('receive', 'some'),\n",
       " ('some', 'portion'),\n",
       " ('portion', 'of'),\n",
       " ('of', 'these'),\n",
       " ('these', 'available'),\n",
       " ('available', 'funds'),\n",
       " ('funds', \"''\"),\n",
       " (\"''\", ','),\n",
       " (',', 'the'),\n",
       " ('the', 'jurors'),\n",
       " ('jurors', 'said'),\n",
       " ('said', '.'),\n",
       " ('.', '``'),\n",
       " ('``', 'Failure'),\n",
       " ('Failure', 'to'),\n",
       " ('to', 'do'),\n",
       " ('do', 'this'),\n",
       " ('this', 'will'),\n",
       " ('will', 'continue'),\n",
       " ('continue', 'to'),\n",
       " ('to', 'place'),\n",
       " ('place', 'a'),\n",
       " ('a', 'disproportionate'),\n",
       " ('disproportionate', 'burden'),\n",
       " ('burden', \"''\"),\n",
       " (\"''\", 'on'),\n",
       " ('on', 'Fulton'),\n",
       " ('Fulton', 'taxpayers'),\n",
       " ('taxpayers', '.'),\n",
       " ('.', 'The'),\n",
       " ('The', 'jury'),\n",
       " ('jury', 'also'),\n",
       " ('also', 'commented'),\n",
       " ('commented', 'on'),\n",
       " ('on', 'the'),\n",
       " ('the', 'Fulton'),\n",
       " ('Fulton', \"ordinary's\"),\n",
       " (\"ordinary's\", 'court'),\n",
       " ('court', 'which'),\n",
       " ('which', 'has'),\n",
       " ('has', 'been'),\n",
       " ('been', 'under'),\n",
       " ('under', 'fire'),\n",
       " ('fire', 'for'),\n",
       " ('for', 'its'),\n",
       " ('its', 'practices'),\n",
       " ('practices', 'in'),\n",
       " ('in', 'the'),\n",
       " ('the', 'appointment'),\n",
       " ('appointment', 'of'),\n",
       " ('of', 'appraisers'),\n",
       " ('appraisers', ','),\n",
       " (',', 'guardians'),\n",
       " ('guardians', 'and'),\n",
       " ('and', 'administrators'),\n",
       " ('administrators', 'and'),\n",
       " ('and', 'the'),\n",
       " ('the', 'awarding'),\n",
       " ('awarding', 'of'),\n",
       " ('of', 'fees'),\n",
       " ('fees', 'and'),\n",
       " ('and', 'compensation'),\n",
       " ('compensation', '.'),\n",
       " ('.', 'Wards'),\n",
       " ('Wards', 'protected'),\n",
       " ('protected', 'The'),\n",
       " ('The', 'jury'),\n",
       " ('jury', 'said'),\n",
       " ('said', 'it'),\n",
       " ('it', 'found'),\n",
       " ('found', 'the'),\n",
       " ('the', 'court'),\n",
       " ('court', '``'),\n",
       " ('``', 'has'),\n",
       " ('has', 'incorporated'),\n",
       " ('incorporated', 'into'),\n",
       " ('into', 'its'),\n",
       " ('its', 'operating'),\n",
       " ('operating', 'procedures'),\n",
       " ('procedures', 'the'),\n",
       " ('the', 'recommendations'),\n",
       " ('recommendations', \"''\"),\n",
       " (\"''\", 'of'),\n",
       " ('of', 'two'),\n",
       " ('two', 'previous'),\n",
       " ('previous', 'grand'),\n",
       " ('grand', 'juries'),\n",
       " ('juries', ','),\n",
       " (',', 'the'),\n",
       " ('the', 'Atlanta'),\n",
       " ('Atlanta', 'Bar'),\n",
       " ('Bar', 'Association'),\n",
       " ('Association', 'and'),\n",
       " ('and', 'an'),\n",
       " ('an', 'interim'),\n",
       " ('interim', 'citizens'),\n",
       " ('citizens', 'committee'),\n",
       " ('committee', '.'),\n",
       " ('.', '``'),\n",
       " ('``', 'These'),\n",
       " ('These', 'actions'),\n",
       " ('actions', 'should'),\n",
       " ('should', 'serve'),\n",
       " ('serve', 'to'),\n",
       " ('to', 'protect'),\n",
       " ('protect', 'in'),\n",
       " ('in', 'fact'),\n",
       " ('fact', 'and'),\n",
       " ('and', 'in'),\n",
       " ('in', 'effect'),\n",
       " ('effect', 'the'),\n",
       " ('the', \"court's\"),\n",
       " (\"court's\", 'wards'),\n",
       " ('wards', 'from'),\n",
       " ('from', 'undue'),\n",
       " ('undue', 'costs'),\n",
       " ('costs', 'and'),\n",
       " ('and', 'its'),\n",
       " ('its', 'appointed'),\n",
       " ('appointed', 'and'),\n",
       " ('and', 'elected'),\n",
       " ('elected', 'servants'),\n",
       " ('servants', 'from'),\n",
       " ('from', 'unmeritorious'),\n",
       " ('unmeritorious', 'criticisms'),\n",
       " ('criticisms', \"''\"),\n",
       " (\"''\", ','),\n",
       " (',', 'the'),\n",
       " ('the', 'jury'),\n",
       " ('jury', 'said'),\n",
       " ('said', '.'),\n",
       " ('.', 'Regarding'),\n",
       " ('Regarding', \"Atlanta's\"),\n",
       " (\"Atlanta's\", 'new'),\n",
       " ('new', 'multi-million-dollar'),\n",
       " ('multi-million-dollar', 'airport'),\n",
       " ('airport', ','),\n",
       " (',', 'the'),\n",
       " ('the', 'jury'),\n",
       " ('jury', 'recommended'),\n",
       " ('recommended', '``'),\n",
       " ('``', 'that'),\n",
       " ('that', 'when'),\n",
       " ('when', 'the'),\n",
       " ('the', 'new'),\n",
       " ('new', 'management'),\n",
       " ('management', 'takes'),\n",
       " ('takes', 'charge'),\n",
       " ('charge', 'Jan.'),\n",
       " ('Jan.', '1'),\n",
       " ('1', 'the'),\n",
       " ('the', 'airport'),\n",
       " ('airport', 'be'),\n",
       " ('be', 'operated'),\n",
       " ('operated', 'in'),\n",
       " ('in', 'a'),\n",
       " ('a', 'manner'),\n",
       " ('manner', 'that'),\n",
       " ('that', 'will'),\n",
       " ('will', 'eliminate'),\n",
       " ('eliminate', 'political'),\n",
       " ('political', 'influences'),\n",
       " ('influences', \"''\"),\n",
       " (\"''\", '.'),\n",
       " ('.', 'The'),\n",
       " ('The', 'jury'),\n",
       " ('jury', 'did'),\n",
       " ('did', 'not'),\n",
       " ('not', 'elaborate'),\n",
       " ('elaborate', ','),\n",
       " (',', 'but'),\n",
       " ('but', 'it'),\n",
       " ('it', 'added'),\n",
       " ('added', 'that'),\n",
       " ('that', '``'),\n",
       " ('``', 'there'),\n",
       " ('there', 'should'),\n",
       " ('should', 'be'),\n",
       " ('be', 'periodic'),\n",
       " ('periodic', 'surveillance'),\n",
       " ('surveillance', 'of'),\n",
       " ('of', 'the'),\n",
       " ('the', 'pricing'),\n",
       " ('pricing', 'practices'),\n",
       " ('practices', 'of'),\n",
       " ('of', 'the'),\n",
       " ('the', 'concessionaires'),\n",
       " ('concessionaires', 'for'),\n",
       " ('for', 'the'),\n",
       " ('the', 'purpose'),\n",
       " ('purpose', 'of'),\n",
       " ('of', 'keeping'),\n",
       " ('keeping', 'the'),\n",
       " ('the', 'prices'),\n",
       " ('prices', 'reasonable'),\n",
       " ('reasonable', \"''\"),\n",
       " (\"''\", '.'),\n",
       " ('.', 'Ask'),\n",
       " ('Ask', 'jail'),\n",
       " ('jail', 'deputies'),\n",
       " ('deputies', 'On'),\n",
       " ('On', 'other'),\n",
       " ('other', 'matters'),\n",
       " ('matters', ','),\n",
       " (',', 'the'),\n",
       " ('the', 'jury'),\n",
       " ('jury', 'recommended'),\n",
       " ('recommended', 'that'),\n",
       " ('that', ':'),\n",
       " (':', '('),\n",
       " ('(', '1'),\n",
       " ('1', ')'),\n",
       " (')', 'Four'),\n",
       " ('Four', 'additional'),\n",
       " ('additional', 'deputies'),\n",
       " ('deputies', 'be'),\n",
       " ('be', 'employed'),\n",
       " ('employed', 'at'),\n",
       " ('at', 'the'),\n",
       " ('the', 'Fulton'),\n",
       " ('Fulton', 'County'),\n",
       " ('County', 'Jail'),\n",
       " ('Jail', 'and'),\n",
       " ('and', '``'),\n",
       " ('``', 'a'),\n",
       " ('a', 'doctor'),\n",
       " ('doctor', ','),\n",
       " (',', 'medical'),\n",
       " ('medical', 'intern'),\n",
       " ('intern', 'or'),\n",
       " ('or', 'extern'),\n",
       " ('extern', 'be'),\n",
       " ('be', 'employed'),\n",
       " ('employed', 'for'),\n",
       " ('for', 'night'),\n",
       " ('night', 'and'),\n",
       " ('and', 'weekend'),\n",
       " ('weekend', 'duty'),\n",
       " ('duty', 'at'),\n",
       " ('at', 'the'),\n",
       " ('the', 'jail'),\n",
       " ('jail', \"''\"),\n",
       " (\"''\", '.'),\n",
       " ('.', '('),\n",
       " ('(', '2'),\n",
       " ('2', ')'),\n",
       " (')', 'Fulton'),\n",
       " ('Fulton', 'legislators'),\n",
       " ('legislators', '``'),\n",
       " ('``', 'work'),\n",
       " ('work', 'with'),\n",
       " ('with', 'city'),\n",
       " ('city', 'officials'),\n",
       " ('officials', 'to'),\n",
       " ('to', 'pass'),\n",
       " ('pass', 'enabling'),\n",
       " ('enabling', 'legislation'),\n",
       " ('legislation', 'that'),\n",
       " ('that', 'will'),\n",
       " ('will', 'permit'),\n",
       " ('permit', 'the'),\n",
       " ('the', 'establishment'),\n",
       " ('establishment', 'of'),\n",
       " ('of', 'a'),\n",
       " ('a', 'fair'),\n",
       " ('fair', 'and'),\n",
       " ('and', 'equitable'),\n",
       " ('equitable', \"''\"),\n",
       " (\"''\", 'pension'),\n",
       " ('pension', 'plan'),\n",
       " ('plan', 'for'),\n",
       " ('for', 'city'),\n",
       " ('city', 'employes'),\n",
       " ('employes', '.'),\n",
       " ('.', 'The'),\n",
       " ('The', 'jury'),\n",
       " ('jury', 'praised'),\n",
       " ('praised', 'the'),\n",
       " ('the', 'administration'),\n",
       " ('administration', 'and'),\n",
       " ('and', 'operation'),\n",
       " ('operation', 'of'),\n",
       " ('of', 'the'),\n",
       " ('the', 'Atlanta'),\n",
       " ('Atlanta', 'Police'),\n",
       " ('Police', 'Department'),\n",
       " ('Department', ','),\n",
       " (',', 'the'),\n",
       " ('the', 'Fulton'),\n",
       " ('Fulton', 'Tax'),\n",
       " ('Tax', \"Commissioner's\"),\n",
       " (\"Commissioner's\", 'Office'),\n",
       " ('Office', ','),\n",
       " (',', 'the'),\n",
       " ('the', 'Bellwood'),\n",
       " ('Bellwood', 'and'),\n",
       " ('and', 'Alpharetta'),\n",
       " ('Alpharetta', 'prison'),\n",
       " ('prison', 'farms'),\n",
       " ('farms', ','),\n",
       " (',', 'Grady'),\n",
       " ('Grady', 'Hospital'),\n",
       " ('Hospital', 'and'),\n",
       " ('and', 'the'),\n",
       " ('the', 'Fulton'),\n",
       " ('Fulton', 'Health'),\n",
       " ('Health', 'Department'),\n",
       " ('Department', '.'),\n",
       " ('.', 'Mayor'),\n",
       " ('Mayor', 'William'),\n",
       " ('William', 'B.'),\n",
       " ('B.', 'Hartsfield'),\n",
       " ('Hartsfield', 'filed'),\n",
       " ('filed', 'suit'),\n",
       " ('suit', 'for'),\n",
       " ('for', 'divorce'),\n",
       " ('divorce', 'from'),\n",
       " ('from', 'his'),\n",
       " ('his', 'wife'),\n",
       " ('wife', ','),\n",
       " (',', 'Pearl'),\n",
       " ('Pearl', 'Williams'),\n",
       " ('Williams', 'Hartsfield'),\n",
       " ('Hartsfield', ','),\n",
       " (',', 'in'),\n",
       " ('in', 'Fulton'),\n",
       " ('Fulton', 'Superior'),\n",
       " ('Superior', 'Court'),\n",
       " ('Court', 'Friday'),\n",
       " ('Friday', '.'),\n",
       " ('.', 'His'),\n",
       " ('His', 'petition'),\n",
       " ('petition', 'charged'),\n",
       " ('charged', 'mental'),\n",
       " ('mental', 'cruelty'),\n",
       " ('cruelty', '.'),\n",
       " ('.', 'The'),\n",
       " ('The', 'couple'),\n",
       " ('couple', 'was'),\n",
       " ('was', 'married'),\n",
       " ('married', 'Aug.'),\n",
       " ('Aug.', '2'),\n",
       " ('2', ','),\n",
       " (',', '1913'),\n",
       " ('1913', '.'),\n",
       " ('.', 'They'),\n",
       " ('They', 'have'),\n",
       " ('have', 'a'),\n",
       " ('a', 'son'),\n",
       " ('son', ','),\n",
       " (',', 'William'),\n",
       " ('William', 'Berry'),\n",
       " ('Berry', 'Jr.'),\n",
       " ('Jr.', ','),\n",
       " (',', 'and'),\n",
       " ('and', 'a'),\n",
       " ('a', 'daughter'),\n",
       " ('daughter', ','),\n",
       " (',', 'Mrs.'),\n",
       " ('Mrs.', 'J.'),\n",
       " ('J.', 'M.'),\n",
       " ('M.', 'Cheshire'),\n",
       " ('Cheshire', 'of'),\n",
       " ('of', 'Griffin'),\n",
       " ('Griffin', '.'),\n",
       " ('.', 'Attorneys'),\n",
       " ('Attorneys', 'for'),\n",
       " ('for', 'the'),\n",
       " ('the', 'mayor'),\n",
       " ('mayor', 'said'),\n",
       " ('said', 'that'),\n",
       " ('that', 'an'),\n",
       " ('an', 'amicable'),\n",
       " ('amicable', 'property'),\n",
       " ('property', 'settlement'),\n",
       " ('settlement', 'has'),\n",
       " ('has', 'been'),\n",
       " ('been', 'agreed'),\n",
       " ('agreed', 'upon'),\n",
       " ('upon', '.'),\n",
       " ('.', 'The'),\n",
       " ('The', 'petition'),\n",
       " ('petition', 'listed'),\n",
       " ('listed', 'the'),\n",
       " ('the', \"mayor's\"),\n",
       " (\"mayor's\", 'occupation'),\n",
       " ('occupation', 'as'),\n",
       " ('as', '``'),\n",
       " ('``', 'attorney'),\n",
       " ('attorney', \"''\"),\n",
       " (\"''\", 'and'),\n",
       " ('and', 'his'),\n",
       " ('his', 'age'),\n",
       " ('age', 'as'),\n",
       " ('as', '71'),\n",
       " ('71', '.'),\n",
       " ('.', 'It'),\n",
       " ('It', 'listed'),\n",
       " ('listed', 'his'),\n",
       " ('his', \"wife's\"),\n",
       " (\"wife's\", 'age'),\n",
       " ('age', 'as'),\n",
       " ('as', '74'),\n",
       " ('74', 'and'),\n",
       " ('and', 'place'),\n",
       " ('place', 'of'),\n",
       " ('of', 'birth'),\n",
       " ('birth', 'as'),\n",
       " ('as', 'Opelika'),\n",
       " ('Opelika', ','),\n",
       " (',', 'Ala.'),\n",
       " ('Ala.', '.'),\n",
       " ('.', 'The'),\n",
       " ('The', 'petition'),\n",
       " ('petition', 'said'),\n",
       " ('said', 'that'),\n",
       " ('that', 'the'),\n",
       " ('the', 'couple'),\n",
       " ('couple', 'has'),\n",
       " ('has', 'not'),\n",
       " ('not', 'lived'),\n",
       " ('lived', 'together'),\n",
       " ('together', 'as'),\n",
       " ('as', 'man'),\n",
       " ('man', 'and'),\n",
       " ('and', 'wife'),\n",
       " ('wife', 'for'),\n",
       " ('for', 'more'),\n",
       " ('more', 'than'),\n",
       " ('than', 'a'),\n",
       " ('a', 'year'),\n",
       " ('year', '.'),\n",
       " ('.', 'The'),\n",
       " ('The', 'Hartsfield'),\n",
       " ('Hartsfield', 'home'),\n",
       " ('home', 'is'),\n",
       " ('is', 'at'),\n",
       " ('at', '637'),\n",
       " ('637', 'E.'),\n",
       " ('E.', 'Pelham'),\n",
       " ('Pelham', 'Rd.'),\n",
       " ('Rd.', 'Aj'),\n",
       " ('Aj', '.'),\n",
       " ('.', 'Henry'),\n",
       " ('Henry', 'L.'),\n",
       " ('L.', 'Bowden'),\n",
       " ('Bowden', 'was'),\n",
       " ('was', 'listed'),\n",
       " ('listed', 'on'),\n",
       " ('on', 'the'),\n",
       " ('the', 'petition'),\n",
       " ('petition', 'as'),\n",
       " ('as', 'the'),\n",
       " ('the', \"mayor's\"),\n",
       " (\"mayor's\", 'attorney'),\n",
       " ('attorney', '.'),\n",
       " ('.', 'Hartsfield'),\n",
       " ('Hartsfield', 'has'),\n",
       " ('has', 'been'),\n",
       " ('been', 'mayor'),\n",
       " ('mayor', 'of'),\n",
       " ('of', 'Atlanta'),\n",
       " ('Atlanta', ','),\n",
       " (',', 'with'),\n",
       " ('with', 'exception'),\n",
       " ('exception', 'of'),\n",
       " ('of', 'one'),\n",
       " ('one', 'brief'),\n",
       " ('brief', 'interlude'),\n",
       " ('interlude', ','),\n",
       " (',', 'since'),\n",
       " ('since', '1937'),\n",
       " ('1937', '.'),\n",
       " ('.', 'His'),\n",
       " ('His', 'political'),\n",
       " ('political', 'career'),\n",
       " ('career', 'goes'),\n",
       " ('goes', 'back'),\n",
       " ('back', 'to'),\n",
       " ('to', 'his'),\n",
       " ('his', 'election'),\n",
       " ('election', 'to'),\n",
       " ('to', 'city'),\n",
       " ('city', 'council'),\n",
       " ('council', 'in'),\n",
       " ('in', '1923'),\n",
       " ('1923', '.'),\n",
       " ('.', 'The'),\n",
       " ('The', \"mayor's\"),\n",
       " (\"mayor's\", 'present'),\n",
       " ('present', 'term'),\n",
       " ('term', 'of'),\n",
       " ('of', 'office'),\n",
       " ('office', 'expires'),\n",
       " ('expires', 'Jan.'),\n",
       " ('Jan.', '1'),\n",
       " ('1', '.'),\n",
       " ('.', 'He'),\n",
       " ('He', 'will'),\n",
       " ('will', 'be'),\n",
       " ('be', 'succeeded'),\n",
       " ('succeeded', 'by'),\n",
       " ('by', 'Ivan'),\n",
       " ('Ivan', 'Allen'),\n",
       " ('Allen', 'Jr.'),\n",
       " ('Jr.', ','),\n",
       " (',', 'who'),\n",
       " ('who', 'became'),\n",
       " ('became', 'a'),\n",
       " ('a', 'candidate'),\n",
       " ('candidate', 'in'),\n",
       " ('in', 'the'),\n",
       " ('the', 'Sept.'),\n",
       " ('Sept.', '13'),\n",
       " ('13', 'primary'),\n",
       " ('primary', 'after'),\n",
       " ('after', 'Mayor'),\n",
       " ('Mayor', 'Hartsfield'),\n",
       " ('Hartsfield', 'announced'),\n",
       " ('announced', 'that'),\n",
       " ('that', 'he'),\n",
       " ('he', 'would'),\n",
       " ('would', 'not'),\n",
       " ('not', 'run'),\n",
       " ('run', 'for'),\n",
       " ('for', 'reelection'),\n",
       " ('reelection', '.'),\n",
       " ('.', 'Georgia'),\n",
       " ('Georgia', 'Republicans'),\n",
       " ('Republicans', 'are'),\n",
       " ('are', 'getting'),\n",
       " ('getting', 'strong'),\n",
       " ('strong', 'encouragement'),\n",
       " ('encouragement', 'to'),\n",
       " ('to', 'enter'),\n",
       " ('enter', 'a'),\n",
       " ('a', 'candidate'),\n",
       " ('candidate', 'in'),\n",
       " ('in', 'the'),\n",
       " ('the', '1962'),\n",
       " ('1962', \"governor's\"),\n",
       " (\"governor's\", 'race'),\n",
       " ...]"
      ]
     },
     "execution_count": 24,
     "metadata": {},
     "output_type": "execute_result"
    }
   ],
   "source": [
    "brown_bigrams"
   ]
  },
  {
   "cell_type": "code",
   "execution_count": 25,
   "metadata": {},
   "outputs": [
    {
     "name": "stdout",
     "output_type": "stream",
     "text": [
      "<FreqDist with 455267 samples and 1161191 outcomes>\n"
     ]
    }
   ],
   "source": [
    "from nltk.probability import FreqDist\n",
    "fdist = FreqDist()\n",
    "for word in brown_bigrams:\n",
    "    fdist[word]+=1\n",
    "print(fdist)"
   ]
  },
  {
   "cell_type": "code",
   "execution_count": 26,
   "metadata": {
    "scrolled": true
   },
   "outputs": [
    {
     "data": {
      "text/plain": [
       "[(('of', 'the'), 9625),\n",
       " ((',', 'and'), 6288),\n",
       " (('.', 'The'), 6081),\n",
       " (('in', 'the'), 5546),\n",
       " ((',', 'the'), 3754),\n",
       " (('.', '``'), 3515),\n",
       " (('to', 'the'), 3426),\n",
       " ((\"''\", '.'), 3332),\n",
       " ((';', ';'), 2784),\n",
       " (('.', 'He'), 2660)]"
      ]
     },
     "execution_count": 26,
     "metadata": {},
     "output_type": "execute_result"
    }
   ],
   "source": [
    "fdist_top10 = fdist.most_common(10)\n",
    "fdist_top10"
   ]
  },
  {
   "cell_type": "markdown",
   "metadata": {},
   "source": [
    "# Stemming\n",
    "mengubah kata berimbuhan ke kata dasar"
   ]
  },
  {
   "cell_type": "code",
   "execution_count": 27,
   "metadata": {},
   "outputs": [
    {
     "name": "stdout",
     "output_type": "stream",
     "text": [
      "give: give\n",
      "giving: give\n",
      "given: given\n",
      "gave: gave\n"
     ]
    }
   ],
   "source": [
    "from nltk.stem import PorterStemmer\n",
    "\n",
    "pst=PorterStemmer()\n",
    "pst.stem(\"having\")\n",
    "words_to_stem=[\"give\",\"giving\",\"given\",\"gave\"]\n",
    "for words in words_to_stem:\n",
    "    print(words+ \": \" +pst.stem(words))"
   ]
  },
  {
   "cell_type": "code",
   "execution_count": 28,
   "metadata": {},
   "outputs": [
    {
     "name": "stdout",
     "output_type": "stream",
     "text": [
      "give: giv\n",
      "giving: giv\n",
      "given: giv\n",
      "gave: gav\n"
     ]
    }
   ],
   "source": [
    "from nltk.stem import LancasterStemmer\n",
    "\n",
    "ls=LancasterStemmer()\n",
    "ls.stem(\"having\")\n",
    "words_to_stem=[\"give\",\"giving\",\"given\",\"gave\"]\n",
    "for words in words_to_stem:\n",
    "    print(words+ \": \" +ls.stem(words))"
   ]
  },
  {
   "cell_type": "code",
   "execution_count": 29,
   "metadata": {},
   "outputs": [
    {
     "name": "stdout",
     "output_type": "stream",
     "text": [
      "give: give\n",
      "giving: give\n",
      "given: given\n",
      "gave: gave\n"
     ]
    }
   ],
   "source": [
    "from nltk.stem import SnowballStemmer\n",
    "\n",
    "sbs=SnowballStemmer(\"english\")\n",
    "sbs.stem(\"having\")\n",
    "words_to_stem=[\"give\",\"giving\",\"given\",\"gave\"]\n",
    "for words in words_to_stem:\n",
    "    print(words+ \": \" +sbs.stem(words))"
   ]
  },
  {
   "cell_type": "code",
   "execution_count": 30,
   "metadata": {},
   "outputs": [
    {
     "name": "stdout",
     "output_type": "stream",
     "text": [
      "have\n",
      "['give', 'giving', 'given', 'gave']\n"
     ]
    }
   ],
   "source": [
    "print(pst.stem(\"having\"))\n",
    "print(words_to_stem)"
   ]
  },
  {
   "cell_type": "markdown",
   "metadata": {},
   "source": [
    "# Lemmatization\n",
    "mengubah suatu kata ke bentuk dasar"
   ]
  },
  {
   "cell_type": "code",
   "execution_count": 31,
   "metadata": {},
   "outputs": [
    {
     "name": "stdout",
     "output_type": "stream",
     "text": [
      "give: give\n",
      "giving: giving\n",
      "given: given\n",
      "gave: gave\n"
     ]
    }
   ],
   "source": [
    "from nltk.stem import wordnet # resource bahasa (google: wordnet princeton)\n",
    "from nltk.stem import WordNetLemmatizer\n",
    "\n",
    "words_to_lemm=[\"give\",\"giving\",\"given\",\"gave\"]\n",
    "word_lem=WordNetLemmatizer()\n",
    "for words in words_to_lemm:\n",
    "    print(words+ \": \" +word_lem.lemmatize(words))"
   ]
  },
  {
   "cell_type": "markdown",
   "metadata": {},
   "source": [
    "# StopWords\n",
    "mengembalikan kata yang sangat sering muncul (mis. kata depan) yang jarang diperlukan dalam analisis.<br>\n",
    "kata-kata tersebut bisa diambil dengan spesifikasi bahasa tertentu."
   ]
  },
  {
   "cell_type": "code",
   "execution_count": 32,
   "metadata": {},
   "outputs": [
    {
     "data": {
      "text/plain": [
       "['i', 'me', 'my', 'myself', 'we', 'our', 'ours', 'ourselves', 'you', \"you're\"]"
      ]
     },
     "execution_count": 32,
     "metadata": {},
     "output_type": "execute_result"
    }
   ],
   "source": [
    "from nltk.corpus import stopwords\n",
    "\n",
    "stopwords.words('english')[:10] #### \n",
    "#len(stopwords.words('english'))"
   ]
  },
  {
   "cell_type": "code",
   "execution_count": 33,
   "metadata": {},
   "outputs": [
    {
     "data": {
      "text/plain": [
       "['de', 'la', 'que', 'el', 'en', 'y', 'a', 'los', 'del', 'se']"
      ]
     },
     "execution_count": 33,
     "metadata": {},
     "output_type": "execute_result"
    }
   ],
   "source": [
    "stopwords.words('spanish')[:10]"
   ]
  },
  {
   "cell_type": "markdown",
   "metadata": {},
   "source": [
    "#### remove punctuation using regex"
   ]
  },
  {
   "cell_type": "code",
   "execution_count": 34,
   "metadata": {},
   "outputs": [
    {
     "name": "stdout",
     "output_type": "stream",
     "text": [
      "['According', 'to', 'the', 'father', 'of', 'Artificial', 'Intelligence', ',', 'John', 'McCarthy']\n",
      "['ccrdng', 't', 'th', 'fthr', 'f', 'rtfcl', 'Intllgnc', 'Jhn', 'McCrthy', 't']\n"
     ]
    }
   ],
   "source": [
    "# Remove the stop words\n",
    "import re # regex = model utk mendeteksi pola\n",
    "# letak karakter yang ingin dihilangkan di dalam []\n",
    "punctuation=re.compile(r'[-,.?!.:;()|0-9Aaiueo]')\n",
    "post_punctuation=[]\n",
    "for words in AI_tokens:\n",
    "    word=punctuation.sub(\"\", words)\n",
    "    if len(word) > 0:\n",
    "        post_punctuation.append(word)\n",
    "print(AI_tokens[:10])\n",
    "print(post_punctuation[:10])"
   ]
  },
  {
   "cell_type": "markdown",
   "metadata": {},
   "source": [
    "#### remove stop words and punctuation"
   ]
  },
  {
   "cell_type": "code",
   "execution_count": 35,
   "metadata": {},
   "outputs": [
    {
     "data": {
      "text/plain": [
       "['According',\n",
       " 'father',\n",
       " 'Artificial',\n",
       " 'Intelligence',\n",
       " '',\n",
       " 'John',\n",
       " 'McCarthy',\n",
       " '',\n",
       " '“',\n",
       " 'The',\n",
       " 'science',\n",
       " 'engineering',\n",
       " 'making',\n",
       " 'intelligent',\n",
       " 'machines',\n",
       " '',\n",
       " 'especially',\n",
       " 'intelligent',\n",
       " 'computer',\n",
       " 'programs',\n",
       " '”',\n",
       " '',\n",
       " 'Artificial',\n",
       " 'Intelligence',\n",
       " 'way',\n",
       " 'making',\n",
       " 'computer',\n",
       " '',\n",
       " 'computercontrolled',\n",
       " 'robot',\n",
       " '',\n",
       " 'software',\n",
       " 'think',\n",
       " 'intelligently',\n",
       " '',\n",
       " 'similar',\n",
       " 'manner',\n",
       " 'intelligent',\n",
       " 'humans',\n",
       " 'think',\n",
       " '',\n",
       " 'AI',\n",
       " 'accomplished',\n",
       " 'studying',\n",
       " 'human',\n",
       " 'brain',\n",
       " 'thinks',\n",
       " '',\n",
       " 'humans',\n",
       " 'learn',\n",
       " '',\n",
       " 'decide',\n",
       " '',\n",
       " 'work',\n",
       " 'trying',\n",
       " 'solve',\n",
       " 'problem',\n",
       " '',\n",
       " 'using',\n",
       " 'outcomes',\n",
       " 'study',\n",
       " 'basis',\n",
       " 'developing',\n",
       " 'intelligent',\n",
       " 'software',\n",
       " 'systems',\n",
       " '']"
      ]
     },
     "execution_count": 35,
     "metadata": {},
     "output_type": "execute_result"
    }
   ],
   "source": [
    "# Remove the stop words\n",
    "import re # regex = model utk mendeteksi pola\n",
    "# letak karakter yang ingin dihilangkan di dalam []\n",
    "stp = stopwords.words('english')\n",
    "punctuation=re.compile(r'[-,.?!.:;()|0-9 ]')\n",
    "post_punctuation=[]\n",
    "for words in AI_tokens:\n",
    "    word=punctuation.sub(\"\", words)\n",
    "    if words not in stp:\n",
    "        post_punctuation.append(word)\n",
    "post_punctuation"
   ]
  },
  {
   "cell_type": "code",
   "execution_count": 263,
   "metadata": {},
   "outputs": [
    {
     "data": {
      "text/plain": [
       "83"
      ]
     },
     "execution_count": 263,
     "metadata": {},
     "output_type": "execute_result"
    }
   ],
   "source": [
    "# Check length of words after remove the stop words\n",
    "len(post_punctuation)"
   ]
  },
  {
   "cell_type": "code",
   "execution_count": 36,
   "metadata": {},
   "outputs": [
    {
     "data": {
      "text/plain": [
       "['according',\n",
       " 'father',\n",
       " 'artificial',\n",
       " 'intelligence',\n",
       " ',',\n",
       " 'john',\n",
       " 'mccarthy',\n",
       " ',',\n",
       " '“',\n",
       " 'science',\n",
       " 'engineering',\n",
       " 'making',\n",
       " 'intelligent',\n",
       " 'machines',\n",
       " ',',\n",
       " 'especially',\n",
       " 'intelligent',\n",
       " 'computer',\n",
       " 'programs',\n",
       " '”',\n",
       " '.',\n",
       " 'artificial',\n",
       " 'intelligence',\n",
       " 'way',\n",
       " 'making',\n",
       " 'computer',\n",
       " ',',\n",
       " 'computer-controlled',\n",
       " 'robot',\n",
       " ',',\n",
       " 'software',\n",
       " 'think',\n",
       " 'intelligently',\n",
       " ',',\n",
       " 'similar',\n",
       " 'manner',\n",
       " 'intelligent',\n",
       " 'humans',\n",
       " 'think',\n",
       " '.',\n",
       " 'ai',\n",
       " 'accomplished',\n",
       " 'studying',\n",
       " 'human',\n",
       " 'brain',\n",
       " 'thinks',\n",
       " ',',\n",
       " 'humans',\n",
       " 'learn',\n",
       " ',',\n",
       " 'decide',\n",
       " ',',\n",
       " 'work',\n",
       " 'trying',\n",
       " 'solve',\n",
       " 'problem',\n",
       " ',',\n",
       " 'using',\n",
       " 'outcomes',\n",
       " 'study',\n",
       " 'basis',\n",
       " 'developing',\n",
       " 'intelligent',\n",
       " 'software',\n",
       " 'systems',\n",
       " '.']"
      ]
     },
     "execution_count": 36,
     "metadata": {},
     "output_type": "execute_result"
    }
   ],
   "source": [
    "# stop words dan mengubah ke huruf kecil\n",
    "stopwords_removal=[]\n",
    "for words in AI_tokens:\n",
    "    if not words.lower() in stopwords.words('english'):\n",
    "        stopwords_removal.append(words.lower())\n",
    "\n",
    "stopwords_removal"
   ]
  },
  {
   "cell_type": "markdown",
   "metadata": {},
   "source": [
    "# POS Tags\n",
    "mendefenisikan jenis dari setiap kata dengan format (kata, jenis)<br>\n",
    "untuk pos tags menggunakan teks bahasa indonesia: http://bahasa.cs.ui.ac.id/postag/"
   ]
  },
  {
   "cell_type": "code",
   "execution_count": 37,
   "metadata": {
    "scrolled": true
   },
   "outputs": [
    {
     "name": "stderr",
     "output_type": "stream",
     "text": [
      "[nltk_data] Downloading package averaged_perceptron_tagger to\n",
      "[nltk_data]     C:\\Users\\User PC\\AppData\\Roaming\\nltk_data...\n",
      "[nltk_data]   Package averaged_perceptron_tagger is already up-to-\n",
      "[nltk_data]       date!\n"
     ]
    },
    {
     "data": {
      "text/plain": [
       "True"
      ]
     },
     "execution_count": 37,
     "metadata": {},
     "output_type": "execute_result"
    }
   ],
   "source": [
    "nltk.download('averaged_perceptron_tagger')"
   ]
  },
  {
   "cell_type": "code",
   "execution_count": 38,
   "metadata": {},
   "outputs": [
    {
     "name": "stdout",
     "output_type": "stream",
     "text": [
      "[('Timothy', 'NN')]\n",
      "[('is', 'VBZ')]\n",
      "[('a', 'DT')]\n",
      "[('natural', 'JJ')]\n",
      "[('when', 'WRB')]\n",
      "[('it', 'PRP')]\n",
      "[('comes', 'VBZ')]\n",
      "[('to', 'TO')]\n",
      "[('drawing', 'VBG')]\n"
     ]
    }
   ],
   "source": [
    "sent = \"Timothy is a natural when it comes to drawing\"\n",
    "sentTokens = word_tokenize(sent)\n",
    "for token in sentTokens:\n",
    "    print(nltk.pos_tag([token]))"
   ]
  },
  {
   "cell_type": "code",
   "execution_count": 271,
   "metadata": {},
   "outputs": [
    {
     "name": "stdout",
     "output_type": "stream",
     "text": [
      "[('John', 'NNP')]\n",
      "[('is', 'VBZ')]\n",
      "[('eating', 'VBG')]\n",
      "[('a', 'DT')]\n",
      "[('delicious', 'JJ')]\n",
      "[('cake', 'NN')]\n"
     ]
    }
   ],
   "source": [
    "sent2 = \"John is eating a delicious cake\"\n",
    "sent_tokens2 = word_tokenize(sent2)\n",
    "for token in sent_tokens2:\n",
    "    print(nltk.pos_tag([token]))"
   ]
  },
  {
   "cell_type": "code",
   "execution_count": 47,
   "metadata": {},
   "outputs": [
    {
     "name": "stdout",
     "output_type": "stream",
     "text": [
      "[('Siang', 'NN')]\n",
      "[(',', ',')]\n",
      "[('nama', 'NN')]\n",
      "[('saya', 'NN')]\n",
      "[('Lili', 'NN')]\n",
      "[('.', '.')]\n"
     ]
    }
   ],
   "source": [
    "sent3 = \"Siang, nama saya Lili.\"\n",
    "sent_tokens3 = word_tokenize(sent3)\n",
    "for token in sent_tokens3:\n",
    "    print(nltk.pos_tag([token]))"
   ]
  },
  {
   "cell_type": "code",
   "execution_count": 44,
   "metadata": {},
   "outputs": [
    {
     "name": "stdout",
     "output_type": "stream",
     "text": [
      "[('According', 'VBG')]\n",
      "[('to', 'TO')]\n",
      "[('the', 'DT')]\n",
      "[('father', 'NN')]\n",
      "[('of', 'IN')]\n",
      "[('Artificial', 'JJ')]\n",
      "[('Intelligence', 'NN')]\n",
      "[(',', ',')]\n",
      "[('John', 'NNP')]\n",
      "[('McCarthy', 'NN')]\n",
      "[(',', ',')]\n",
      "[('it', 'PRP')]\n",
      "[('is', 'VBZ')]\n",
      "[('“', 'NN')]\n",
      "[('The', 'DT')]\n",
      "[('science', 'NN')]\n",
      "[('and', 'CC')]\n",
      "[('engineering', 'NN')]\n",
      "[('of', 'IN')]\n",
      "[('making', 'VBG')]\n",
      "[('intelligent', 'NN')]\n",
      "[('machines', 'NNS')]\n",
      "[(',', ',')]\n",
      "[('especially', 'RB')]\n",
      "[('intelligent', 'NN')]\n",
      "[('computer', 'NN')]\n",
      "[('programs', 'NNS')]\n",
      "[('”', 'NN')]\n",
      "[('.', '.')]\n",
      "[('Artificial', 'JJ')]\n",
      "[('Intelligence', 'NN')]\n",
      "[('is', 'VBZ')]\n",
      "[('a', 'DT')]\n",
      "[('way', 'NN')]\n",
      "[('of', 'IN')]\n",
      "[('making', 'VBG')]\n",
      "[('a', 'DT')]\n",
      "[('computer', 'NN')]\n",
      "[(',', ',')]\n",
      "[('a', 'DT')]\n",
      "[('computer-controlled', 'JJ')]\n",
      "[('robot', 'NN')]\n",
      "[(',', ',')]\n",
      "[('or', 'CC')]\n",
      "[('a', 'DT')]\n",
      "[('software', 'NN')]\n",
      "[('think', 'NN')]\n",
      "[('intelligently', 'RB')]\n",
      "[(',', ',')]\n",
      "[('in', 'IN')]\n",
      "[('the', 'DT')]\n",
      "[('similar', 'JJ')]\n",
      "[('manner', 'NN')]\n",
      "[('the', 'DT')]\n",
      "[('intelligent', 'NN')]\n",
      "[('humans', 'NNS')]\n",
      "[('think', 'NN')]\n",
      "[('.', '.')]\n",
      "[('AI', 'NN')]\n",
      "[('is', 'VBZ')]\n",
      "[('accomplished', 'VBN')]\n",
      "[('by', 'IN')]\n",
      "[('studying', 'VBG')]\n",
      "[('how', 'WRB')]\n",
      "[('human', 'NN')]\n",
      "[('brain', 'NN')]\n",
      "[('thinks', 'NNS')]\n",
      "[(',', ',')]\n",
      "[('and', 'CC')]\n",
      "[('how', 'WRB')]\n",
      "[('humans', 'NNS')]\n",
      "[('learn', 'NN')]\n",
      "[(',', ',')]\n",
      "[('decide', 'NN')]\n",
      "[(',', ',')]\n",
      "[('and', 'CC')]\n",
      "[('work', 'NN')]\n",
      "[('while', 'IN')]\n",
      "[('trying', 'VBG')]\n",
      "[('to', 'TO')]\n",
      "[('solve', 'NN')]\n",
      "[('a', 'DT')]\n",
      "[('problem', 'NN')]\n",
      "[(',', ',')]\n",
      "[('and', 'CC')]\n",
      "[('then', 'RB')]\n",
      "[('using', 'VBG')]\n",
      "[('the', 'DT')]\n",
      "[('outcomes', 'NNS')]\n",
      "[('of', 'IN')]\n",
      "[('this', 'DT')]\n",
      "[('study', 'NN')]\n",
      "[('as', 'IN')]\n",
      "[('a', 'DT')]\n",
      "[('basis', 'NN')]\n",
      "[('of', 'IN')]\n",
      "[('developing', 'VBG')]\n",
      "[('intelligent', 'NN')]\n",
      "[('software', 'NN')]\n",
      "[('and', 'CC')]\n",
      "[('systems', 'NNS')]\n",
      "[('.', '.')]\n"
     ]
    }
   ],
   "source": [
    "sent4 = AI\n",
    "sent_tokens4 = word_tokenize(sent4)\n",
    "for token in sent_tokens4:\n",
    "    print(nltk.pos_tag([token]))"
   ]
  },
  {
   "cell_type": "markdown",
   "metadata": {},
   "source": [
    "## Name Entity Recognition (NER)\n",
    "mendeteksi jenis kata seperti nama orang, nama perusahaan, nama lokasi, dsb.\n",
    "**The steps of NER:**<br>\n",
    "○ The noun phrase identification.<br>\n",
    "○ The phrase classification.<br>\n",
    "○ Entity disambiguation."
   ]
  },
  {
   "cell_type": "code",
   "execution_count": 40,
   "metadata": {
    "scrolled": true
   },
   "outputs": [
    {
     "name": "stderr",
     "output_type": "stream",
     "text": [
      "[nltk_data] Downloading package maxent_ne_chunker to C:\\Users\\User\n",
      "[nltk_data]     PC\\AppData\\Roaming\\nltk_data...\n",
      "[nltk_data]   Package maxent_ne_chunker is already up-to-date!\n"
     ]
    },
    {
     "data": {
      "text/plain": [
       "True"
      ]
     },
     "execution_count": 40,
     "metadata": {},
     "output_type": "execute_result"
    }
   ],
   "source": [
    "nltk.download('maxent_ne_chunker')"
   ]
  },
  {
   "cell_type": "code",
   "execution_count": 41,
   "metadata": {},
   "outputs": [
    {
     "name": "stdout",
     "output_type": "stream",
     "text": [
      "(S (GPE Hello/NNP) ,/, my/PRP$ name/NN is/VBZ (PERSON Lili/NNP))\n"
     ]
    }
   ],
   "source": [
    "# sebelum named entity, diperlukan pos tags untuk pembagian kelas.\n",
    "# lalu named entity akan memproses semua noun.\n",
    "from nltk import ne_chunk\n",
    "\n",
    "NE_3=word_tokenize(sent3)\n",
    "NE_tags3=nltk.pos_tag(NE_3)\n",
    "NE_NER3=ne_chunk(NE_tags3)\n",
    "print(NE_NER3)"
   ]
  },
  {
   "cell_type": "code",
   "execution_count": 49,
   "metadata": {},
   "outputs": [
    {
     "name": "stdout",
     "output_type": "stream",
     "text": [
      "(S\n",
      "  The/DT\n",
      "  (ORGANIZATION US/NNP)\n",
      "  President/NNP\n",
      "  stays/VBZ\n",
      "  in/IN\n",
      "  the/DT\n",
      "  (FACILITY WHITE/NNP HOUSE/NNP))\n"
     ]
    }
   ],
   "source": [
    "NE_sent=\"The US President stays in the WHITE HOUSE\"\n",
    "NE_tokens=word_tokenize(NE_sent)\n",
    "NE_tags=nltk.pos_tag(NE_tokens)\n",
    "NE_NER=ne_chunk(NE_tags)\n",
    "print(NE_NER)"
   ]
  },
  {
   "cell_type": "code",
   "execution_count": 61,
   "metadata": {},
   "outputs": [
    {
     "name": "stdout",
     "output_type": "stream",
     "text": [
      "(S\n",
      "  (PERSON Robert/NNP)\n",
      "  and/CC\n",
      "  (PERSON David/NNP)\n",
      "  are/VBP\n",
      "  studying/VBG\n",
      "  (ORGANIZATION Computer/NNP Science/NNP)\n",
      "  at/IN\n",
      "  (ORGANIZATION Harvard/NNP)\n",
      "  in/IN\n",
      "  (GPE California/NNP))\n"
     ]
    }
   ],
   "source": [
    "NE_sent=\"Robert and David are studying Computer Science at Harvard in California\"\n",
    "NE_tokens=word_tokenize(NE_sent)\n",
    "NE_tags=nltk.pos_tag(NE_tokens)\n",
    "NE_NER=ne_chunk(NE_tags)\n",
    "print(NE_NER)"
   ]
  },
  {
   "cell_type": "markdown",
   "metadata": {},
   "source": [
    "# Chunking\n",
    "membagi kalimat per kata, lalu menggabungkan/mengelompokkan beberapa kata menjadi kalimat baru"
   ]
  },
  {
   "cell_type": "code",
   "execution_count": 63,
   "metadata": {},
   "outputs": [
    {
     "data": {
      "text/plain": [
       "[('The', 'DT'),\n",
       " ('big', 'JJ'),\n",
       " ('cat', 'NN'),\n",
       " ('ate', 'VBD'),\n",
       " ('the', 'DT'),\n",
       " ('little', 'JJ'),\n",
       " ('mouse', 'NN'),\n",
       " ('who', 'WP'),\n",
       " ('was', 'VBD'),\n",
       " ('after', 'IN'),\n",
       " ('fresh', 'JJ'),\n",
       " ('cheese', 'NN')]"
      ]
     },
     "execution_count": 63,
     "metadata": {},
     "output_type": "execute_result"
    }
   ],
   "source": [
    "# Tokenize and give POS Tags\n",
    "new=\"The big cat ate the little mouse who was after fresh cheese\"\n",
    "new_tokens=nltk.pos_tag(word_tokenize(new))\n",
    "new_tokens"
   ]
  },
  {
   "cell_type": "code",
   "execution_count": 64,
   "metadata": {},
   "outputs": [],
   "source": [
    "# Create grammar from noun phrase\n",
    "grammar_np=r\"NP: {<DT>?<JJ>*<NN>}\"\n",
    "# regex di atas: NP dibentuk dari DT (optional maksimal 1), JJ (optional maksimal n), dan NN (wajib)\n",
    "chunk_parser=nltk.RegexpParser(grammar_np)"
   ]
  },
  {
   "cell_type": "code",
   "execution_count": 65,
   "metadata": {
    "scrolled": true
   },
   "outputs": [
    {
     "name": "stdout",
     "output_type": "stream",
     "text": [
      "(S\n",
      "  (NP The/DT big/JJ cat/NN)\n",
      "  ate/VBD\n",
      "  (NP the/DT little/JJ mouse/NN)\n",
      "  who/WP\n",
      "  was/VBD\n",
      "  after/IN\n",
      "  (NP fresh/JJ cheese/NN))\n"
     ]
    }
   ],
   "source": [
    "# Get chunk result\n",
    "\"The big cat ate the little mouse who was after fresh cheese\"\n",
    "chunk_result=chunk_parser.parse(new_tokens)\n",
    "print(chunk_result)"
   ]
  },
  {
   "cell_type": "code",
   "execution_count": 82,
   "metadata": {},
   "outputs": [
    {
     "name": "stdout",
     "output_type": "stream",
     "text": [
      "(S I/PRP watch/VBP (NP The/DT Lion/NNP King/NNP) (NP tonight/NN))\n"
     ]
    }
   ],
   "source": [
    "new = \"I watch The Lion King tonight\"\n",
    "#\n",
    "new_lion = nltk.pos_tag(word_tokenize(new))\n",
    "\n",
    "grammar_lion=r\"NP: {(<DT>?<NNP>*) | (<DT>?<NNP>*<NN>)}\"\n",
    "chunk_parser=nltk.RegexpParser(grammar_lion)\n",
    "\n",
    "chunk_result=chunk_parser.parse(new_lion)\n",
    "print(chunk_result)"
   ]
  },
  {
   "cell_type": "code",
   "execution_count": 83,
   "metadata": {},
   "outputs": [
    {
     "name": "stdout",
     "output_type": "stream",
     "text": [
      "(S saya/PRP makan/VBP (NP nasi/NN Padang/NNP))\n"
     ]
    }
   ],
   "source": [
    "indo_ex = [('saya','PRP'),('makan','VBP'),('nasi','NN'),('Padang','NNP')]\n",
    "grammarindo = r\"NP:{<NN><NNP>*}\"\n",
    "chunkindo = nltk.RegexpParser(grammarindo)\n",
    "chunkresult = chunkindo.parse(indo_ex)\n",
    "print(chunkresult)"
   ]
  },
  {
   "cell_type": "markdown",
   "metadata": {},
   "source": [
    "# Bag od Words\n",
    "mengambil setiap kata secara unik sebagai fitur, lalu menghitung jumlah kemunculan kata tersebut<br>\n",
    "TF = Term Frequency. yaitu berapa kali token tersebut muncul.<br>\n",
    "Binary Fiture = muncul 1, tidak muncul 0. (lebih simple)"
   ]
  },
  {
   "cell_type": "code",
   "execution_count": 215,
   "metadata": {},
   "outputs": [
    {
     "name": "stdout",
     "output_type": "stream",
     "text": [
      "[[1 0 1 0 0 1 0 0 1 1 0 0 0 0]\n",
      " [0 1 0 1 1 0 1 1 1 0 1 1 1 1]]\n",
      "{'all': 0, 'my': 8, 'cats': 2, 'in': 5, 'row': 9, 'when': 13, 'cat': 1, 'sits': 11, 'down': 3, 'she': 10, 'looks': 7, 'like': 6, 'furby': 4, 'toy': 12}\n"
     ]
    }
   ],
   "source": [
    "from sklearn.feature_extraction.text import CountVectorizer\n",
    "\n",
    "corpus = ['All my cats in a row', \n",
    "          'When my cat sits down, she looks like a Furby toy!',]\n",
    "vectorizer = CountVectorizer()\n",
    "# matriks kemunculan kata\n",
    "print(vectorizer.fit_transform(corpus).todense())\n",
    "# dictionary setiap kata beserta index diurut berdasarkan alfabet\n",
    "print(vectorizer.vocabulary_)"
   ]
  },
  {
   "cell_type": "code",
   "execution_count": 219,
   "metadata": {},
   "outputs": [
    {
     "data": {
      "text/plain": [
       "['According to the father of Artificial\\nIntelligence, John McCarthy, it is “The science and\\nengineering of making intelligent machines,\\nespecially intelligent computer programs”.',\n",
       " 'Artificial Intelligence is a way of making a\\ncomputer, a computer-controlled robot, or a software\\nthink intelligently, in the similar manner the\\nintelligent humans think.',\n",
       " 'AI is accomplished by studying how human brain\\nthinks, and how humans learn, decide, and work while\\ntrying to solve a problem, and then using the\\noutcomes of this study as a basis of developing\\nintelligent software and systems.']"
      ]
     },
     "execution_count": 219,
     "metadata": {},
     "output_type": "execute_result"
    }
   ],
   "source": [
    "# Contoh Bag of Words dari teks AI\n",
    "ai_tokens = nltk.sent_tokenize(AI)\n",
    "ai_tokens"
   ]
  },
  {
   "cell_type": "code",
   "execution_count": 220,
   "metadata": {},
   "outputs": [
    {
     "name": "stdout",
     "output_type": "stream",
     "text": [
      "[[0 1 0 1 1 0 0 0 0 1 0 0 0 1 1 1 0 0 0 0 1 2 0 1 1 1 0 1 1 0 1 2 0 0 0 1\n",
      "  0 1 0 0 0 0 0 0 2 0 0 0 0 1 0 0 0 0 0]\n",
      " [0 0 0 0 1 0 0 0 0 2 1 0 0 0 0 0 0 0 1 1 1 1 1 1 0 0 0 0 1 1 0 1 1 0 0 0\n",
      "  1 0 1 1 0 0 0 0 2 0 2 0 0 0 0 0 1 0 0]\n",
      " [1 0 1 4 0 1 1 1 1 0 0 1 1 0 0 0 2 1 1 0 0 1 0 1 0 0 1 0 0 0 0 2 0 1 1 0\n",
      "  0 0 0 1 1 1 1 1 1 1 0 1 1 1 1 1 0 1 1]]\n",
      "{'according': 1, 'to': 49, 'the': 44, 'father': 15, 'of': 31, 'artificial': 4, 'intelligence': 20, 'john': 25, 'mccarthy': 30, 'it': 24, 'is': 23, 'science': 37, 'and': 3, 'engineering': 13, 'making': 28, 'intelligent': 21, 'machines': 27, 'especially': 14, 'computer': 9, 'programs': 35, 'way': 52, 'controlled': 10, 'robot': 36, 'or': 32, 'software': 39, 'think': 46, 'intelligently': 22, 'in': 19, 'similar': 38, 'manner': 29, 'humans': 18, 'ai': 2, 'accomplished': 0, 'by': 8, 'studying': 42, 'how': 16, 'human': 17, 'brain': 7, 'thinks': 47, 'learn': 26, 'decide': 11, 'work': 54, 'while': 53, 'trying': 50, 'solve': 40, 'problem': 34, 'then': 45, 'using': 51, 'outcomes': 33, 'this': 48, 'study': 41, 'as': 5, 'basis': 6, 'developing': 12, 'systems': 43}\n"
     ]
    }
   ],
   "source": [
    "vectorizer = CountVectorizer()\n",
    "print(vectorizer.fit_transform(ai_tokens).todense())\n",
    "print(vectorizer.vocabulary_)"
   ]
  },
  {
   "cell_type": "code",
   "execution_count": 221,
   "metadata": {},
   "outputs": [
    {
     "data": {
      "text/plain": [
       "3"
      ]
     },
     "execution_count": 221,
     "metadata": {},
     "output_type": "execute_result"
    }
   ],
   "source": [
    "len((vectorizer.fit_transform(ai_tokens).todense())"
   ]
  },
  {
   "cell_type": "code",
   "execution_count": 222,
   "metadata": {},
   "outputs": [
    {
     "data": {
      "text/plain": [
       "55"
      ]
     },
     "execution_count": 222,
     "metadata": {},
     "output_type": "execute_result"
    }
   ],
   "source": [
    "len(vectorizer.vocabulary_)"
   ]
  },
  {
   "cell_type": "markdown",
   "metadata": {},
   "source": []
  }
 ],
 "metadata": {
  "kernelspec": {
   "display_name": "Python 3",
   "language": "python",
   "name": "python3"
  },
  "language_info": {
   "codemirror_mode": {
    "name": "ipython",
    "version": 3
   },
   "file_extension": ".py",
   "mimetype": "text/x-python",
   "name": "python",
   "nbconvert_exporter": "python",
   "pygments_lexer": "ipython3",
   "version": "3.7.1"
  }
 },
 "nbformat": 4,
 "nbformat_minor": 2
}
